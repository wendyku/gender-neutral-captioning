{
 "cells": [
  {
   "cell_type": "code",
   "execution_count": 6,
   "metadata": {},
   "outputs": [
    {
     "name": "stderr",
     "output_type": "stream",
     "text": [
      "[nltk_data] Downloading package punkt to\n",
      "[nltk_data]     C:\\Users\\ACER\\AppData\\Roaming\\nltk_data...\n",
      "[nltk_data]   Unzipping tokenizers\\punkt.zip.\n",
      "[nltk_data] Downloading package averaged_perceptron_tagger to\n",
      "[nltk_data]     C:\\Users\\ACER\\AppData\\Roaming\\nltk_data...\n",
      "[nltk_data]   Unzipping taggers\\averaged_perceptron_tagger.zip.\n"
     ]
    },
    {
     "data": {
      "text/plain": [
       "True"
      ]
     },
     "execution_count": 6,
     "metadata": {},
     "output_type": "execute_result"
    }
   ],
   "source": [
    "import json\n",
    "import time\n",
    "import numpy as np\n",
    "import copy\n",
    "import itertools\n",
    "import os\n",
    "from collections import defaultdict\n",
    "import sys\n",
    "from pprint import pprint\n",
    "import nltk\n",
    "nltk.download('punkt')\n",
    "nltk.download('averaged_perceptron_tagger')"
   ]
  },
  {
   "cell_type": "code",
   "execution_count": 2,
   "metadata": {},
   "outputs": [],
   "source": [
    "def read_data(input_file):\n",
    "    ##Load the annotations file\n",
    "    dataset=json.load(open(input_file, 'r'))\n",
    "\n",
    "##    pprint(dataset)\n",
    "##    print(dataset.keys())\n",
    "    annots={}\n",
    "    img_capts=defaultdict(list)\n",
    "    if 'annotations' in dataset:\n",
    "        for annot in dataset['annotations']:\n",
    "            ##append annotation to image id\n",
    "            if 'caption' in annot:\n",
    "                img_capts[annot['image_id']].append(annot['caption'])\n",
    "            annots[annot['id']]=annot\n",
    "\n",
    "    imgs={}\n",
    "    if 'images' in dataset:\n",
    "        for img in dataset['images']:\n",
    "            imgs[img['id']]=img['file_name']\n",
    "\n",
    "    categories={}\n",
    "    if 'categories' in dataset:\n",
    "        for category in dataset['categories']:\n",
    "            categories[category['id']]=category['supercategory']\n",
    "##    print(categories)\n",
    "    \n",
    "    catg_imgs=defaultdict(list)\n",
    "    if 'annotations' in dataset and 'categories' in dataset:\n",
    "        for annot in dataset['annotations']:\n",
    "            if annot['iscrowd']==0:\n",
    "                catg_imgs[annot['category_id']].append(annot['image_id'])\n",
    "##    print(len(catg_imgs))\n",
    "    return img_capts, catg_imgs, imgs\n"
   ]
  },
  {
   "cell_type": "code",
   "execution_count": 3,
   "metadata": {},
   "outputs": [],
   "source": [
    "##Balancing training data based on only gender word tags\n",
    "def split_train_data(img_capts=None,catg_imgs=None,sample_size=100):\n",
    "    ##img_capts has image_ids as keys and the corresponding captions as vals\n",
    "    ##catg_imgs has categories as keys and the corresponding image_ids as vals\n",
    "\n",
    "    ##get only images with humans in it\n",
    "    male_tags=['man','boy','gentleman','guy','male']\n",
    "    female_tags=['woman','girl','lady','female']\n",
    "    neutral_tags=['person','someone']\n",
    "    train_data=defaultdict(list)\n",
    "    num_imgs=0\n",
    "    \n",
    "##        human_img_capts[img_id]=img_capts[img_id]\n",
    "    \n",
    "    ##check if a gender word is in the caption\n",
    "    for img_id in catg_imgs[1]:\n",
    "        if any(any(word in nltk.word_tokenize(caption) for word in male_tags) for caption in img_capts[img_id]):\n",
    "            train_data['male'].append(img_id)\n",
    "            num_imgs+=1\n",
    "##            print(num_imgs)\n",
    "        if num_imgs>=int(sample_size/3.):\n",
    "            break\n",
    "\n",
    "    for img_id in catg_imgs[1]:\n",
    "        if any(any(word in nltk.word_tokenize(caption) for word in female_tags) for caption in img_capts[img_id]):\n",
    "            train_data['female'].append(img_id)\n",
    "            num_imgs+=1\n",
    "##            print(num_imgs)\n",
    "        if num_imgs>=int(2.*sample_size/3.):\n",
    "            break\n",
    "\n",
    "    for img_id in catg_imgs[1]:\n",
    "        if any(any(word in nltk.word_tokenize(caption) for word in neutral_tags) for caption in img_capts[img_id]):\n",
    "            train_data['neutral'].append(img_id)\n",
    "            num_imgs+=1\n",
    "##            print(num_imgs)\n",
    "        if num_imgs==sample_size:\n",
    "            break\n",
    "    \n",
    "    for key in train_data:\n",
    "        print(key, len(train_data[key]))\n",
    "        \n",
    "    return train_data"
   ]
  },
  {
   "cell_type": "code",
   "execution_count": 4,
   "metadata": {},
   "outputs": [],
   "source": [
    "def split_data_context(img_capts=None,catg_imgs=None):\n",
    "    ##POS tag each caption\n",
    "    ##work only with cat_imgs[1]\n",
    "    pass"
   ]
  },
  {
   "cell_type": "code",
   "execution_count": 7,
   "metadata": {},
   "outputs": [
    {
     "name": "stdout",
     "output_type": "stream",
     "text": [
      "male 33\n",
      "female 33\n",
      "neutral 34\n"
     ]
    }
   ],
   "source": [
    "img_capts,_,imgs=read_data('captions_val2014.json')\n",
    "_,catg_imgs,_=read_data('instances_val2014.json')\n",
    "train_data=split_train_data(img_capts,catg_imgs)"
   ]
  },
  {
   "cell_type": "code",
   "execution_count": 8,
   "metadata": {},
   "outputs": [],
   "source": [
    "##To get data in the required format\n",
    "def get_data(img_capts=None,imgs=None,train_data=None):\n",
    "    captions={}\n",
    "    for gender in train_data:\n",
    "        for img_id in train_data[gender]:\n",
    "            captions[imgs[img_id]]=img_capts[img_id]\n",
    "    all_captions = []\n",
    "    all_captions.extend(itertools.chain(*(value for key,value in captions.items())))\n",
    "    return captions, all_captions"
   ]
  },
  {
   "cell_type": "code",
   "execution_count": 22,
   "metadata": {},
   "outputs": [
    {
     "name": "stdout",
     "output_type": "stream",
     "text": [
      "['A  soldier riding a red motorcycle down a busy street.', 'The guy wearing camouflage outfit with the orange reflector vest is riding a motorcycle.', 'A safety conscious military dressed motorcyclist in traffic. ', 'A motorcyclist wearing an orange vest and driving on the motorcycle down the street.', 'A man is riding a motorcycle on a street in traffic.', 'A small white boat in the open water.', 'Man driving a white speed boat through the ocean', 'A very nice looking white boat in the water.', 'Speedboat making turn on open ocean water with one passenger', 'a man driving a little boat in the water ', 'A local hero rides through the streets of town on his motorcycle with stuffed animals.', 'A man on his motorcycle with a teddy bear attached.', 'A man rides a motorcycle that is decorated with three teddy bears.', 'The man is on a motorcycle with three stuffed animals fastened on at the headlight and each front tire.', 'A man riding on a motorcycle with three stuffed teddy bears attached to the motorcycle.', 'A person on a motorcycle doing a burnout.', 'A view of a person that is on a motorcycle.', 'A man peeling rubber on a white motorcycle.', 'A black leather clad person on a white motorcycle.', 'A leather-clad person burning rubber on a motorcycle.', 'A man kneeling down in front of a refrigerator.', 'A person kneels down to peer into a refrigerator', 'A man is searching for food in a refrigerator.', 'A chef is opening and looking into the fridge.', 'A man wearing an apron peering into the bottom of an open fridge', 'A white train car lays on its side in the dark while a man with a light is nearby.', 'on overturned bus on the side of the road ', 'A bus is tipped over on its side.', 'A bus tipped over on the side of the road', 'A picture of a bus that is turned over.', 'A blue and yellow bus parked in front of a man with a  bike.', 'a blue and yellow bus with a person putting mounting a bicycle on the front of the bus', 'A person puts their bike on a blue and yellow bus.', 'A person places his bike in the rack on a downtown bus.', 'A man putting a bicycle on the front of a bus.', 'A small kitten is lying on the seat of a large motorcycle.', 'a cat sitting on a motorcycle next to a sidewalk.', 'Two men sitting behind a pair of motorcycles.', 'A bunch of bike-related parts outside some cafe.', 'The man are sitting outside looking at the bikes. ', 'A person on a red and black moped on a sidewalk. ', 'An Asian man riding a motor scooter on a street', 'A person on a scooter passing a blue garage.', 'a man on a scooter at the top of some steps', 'A man riding a motor scooter on a wet road.', 'a man wearing a helmet sits on a motorcycle', 'a man sitting on a motorcycle with a helmet on', 'A man on a motorcycle wearing safety gear.', 'A motorcyclist wearing proper riding gear is smiling for the camera.', 'A man wearing sunglasses and protective gear rides his motorcycle.', 'A young man wears a fake mustache in a kitchen decorated for the New Orleans Saints.', 'A man in a costume poses for a photo.', 'a chef with a silly mustache on his face', 'A man is a St. Louis themed chef with a costume.', 'A person dressed up as a chef cooking.', 'A blue car driving down a street past parked cars.', 'A man driving a car is passing a horse and cart.', 'A horse and cart by the side of a heavily trafficked road.', 'Old automobiles with horse in same street in asphalt', 'Two cars driving down a street with a horse and wagon parked along the curb.', 'A man on a motorcycle riding in the desert.', 'A man in a helmet and jacket riding a motorcycle in the desert.', 'a man sitting on a motorcycle in the desert', 'a guy in the desert  sitting on his motorcycle', 'Old photo of man sitting on his motorcycle', 'A man on a bicycle passing by a taxi.', ' a person riding a bicycle along a city street.', 'A man on a bicycle pedaling down a city street.', 'A person riding a bike near a car and building.', 'A man riding a bike past a car.', 'A  street with pedestrians, bikes, a jitney and a bus. ', 'People on a street with bikes, a covered scooter and a bus.', 'many bikes parked on a fence near the street', 'A crowded street in India with bikes, buses and taxis. ', 'A young man walking down a street next to a red and yellow bus.', 'There is a man with a helmet riding a motorcycle.', 'A person wearing a helmet and backpack riding a motorcycle on the street.', 'Man on a motorcycle driving down a road next to a van.', 'A motorcycle drives on a road past a small car in front of a building.', 'A boy in a blue shirt rides a red motorcycle through the streets.', 'A man and a woman on a blue motorbike are picking up a piece of luggage from a man.', 'a woman is sitting on a scooter outside', 'a person riding a motorcycle in the reflection ', 'A man and a woman riding on a motorcycle are getting ready to hit the road.', 'A man and woman on a scooter receiving baggage from a bellhop.', 'A dump truck passing a gentleman on a bicycle loaded with wood benches.', 'A person that is riding next to a car.', 'A man riding a bike with a bunch of wood on it next to a truck.', 'A man on a bicycle is carrying wooden benches.', 'A man on a bicycle is carrying several tables.', 'An old picture of a family on their farm.', 'a family stands outside their home by horses. ', 'A picture of an old western family and their horses. ', 'a computer manipulated image of a man, woman and children on a farm', 'Family poses in front of their house with horses next to them. ', 'A man and woman are riding down the street in a parade wearing patriotic hats.', 'Motorcyclists are riding with flags on the bikes.', 'A motorcycle parade flying flags rolls down the street.', 'A group of motor cycle riders in a street parade.', 'People on motorcycles decorated in American flags riding down the street with people watching from the sidewalk area.', 'A scene from the show Mad Men and some appliances.', 'A beautiful woman preparing food in a kitchen next to dishes and appliances.', 'A retro collage of photographs titled \"Joan\\'s Kitchen\"', 'a woman with large breasts is in the kitchen at the stove', 'A woman with red hair wearing a blue dress stands by a stove as a man in a suit stands behind her.', 'A man sits with his bike on the beach', 'The bicyclist is taking a rest along the ocean shore.', 'A man leans his bike against a sign and sits on a bank watching the sea.', 'A man sitting next to a bike near the beach.', 'A person sitting by the water with a bike.', 'A black and white photo of a child putting on gloves next to a suitcase.', 'A boy wearing a coat is putting on gloves near a suitcase.', 'A little boy wearing gloves standing next to luggage.', 'A boy wearing a winter outfit stands next to some luggage.', 'A young boy dressed in winter clothes is pulling on a glove.', 'A man and two women walking their dogs and hiking in the woods.', 'Three dogs are huddled together with their owners. ', 'A group of people in the woods with dogs.', 'Three hikers walking in the wilderness with three dogs.', 'Three people standing in a wooded area walking three dogs. ', 'A mans reflection in a side view mirror.', 'there is a man looking in the side view mirror of a motorcycle', 'A mans reflection that is on the side of a bike.', 'a person looking at self in motorcycle mirror, has shades.', 'A man looking at himself in a mirror attached to a motorcycle.', 'A man that is standing next to a bike.', 'a man walking while holding onto a bike ', 'A man is seen walking next to his bicycle.', 'A person walking beside a bicycle with a boat in the background.', 'A man rides hits bike near a body of water', 'a man sitting on a red and black motorcycle', 'An elderly man on a red motorcycle. ', 'The man is sitting on his motorcycle. ', 'A man is wearing jeans on a red motorcycle.', 'A man wearing a jean jacket sitting on a motorcycle.', 'A person is driving a speedboat quickly through the water.', 'This man is driving a speedboat across the water', 'A MAN DRIVING A BOAT IN THE OCEAN WATER ', 'A black and white speed boat in the water', 'A boat traveling down an open body of water.', 'a man standing by his bike with his hands on the seat', 'The man is standing by his bike to pose for a photo. ', 'A man stands  with a bicycle next to a long gren van.', ' A ASIAN MAN HOLDING ON TO A BIKE IN FRONT OF A BUILDING ', 'A man is posing next to his bike on a brick sidewalk, and a green van is parked out in the street next to him.', 'Man lounging on a boat giving a thumb up.', 'A man who is laying on a boat giving a thumbs up.', 'A man in black jacket laying at the bow of a boat.', 'A man sitting outside on a boat posing for a picture.', 'A person lays on the edge of a boat.', 'A man in a black shirt holding a dog with its hand in the air.', 'A man holding an adorable Chihuahua in his left hand.', 'A man holds a small dog in a harness, smiling.', 'a man standing outside holding a small dog', 'A man holding a dog in a harness.', 'two women loading their bicycles onto a bus rack', 'Two woman loading bikes onto a public bus.', 'People attaching their bikes to the front of a bus.', 'a boy and girl are putting their bicycles on the front of a bus', 'A man with a bicycle stands in front of a bus.', 'Riding a motorcycle down a street that has no one else on it.', \"The view from a motorcyclist's point of view, looking down a street.\", 'A man rides a motorcycle down an empty street next to houses.', 'The view of the street from the perspective of the rider of a motorcycle', 'A motorcycle moves forward down an empty street.', 'A woman in pajamas using her laptop on the stove top in the kitchen', 'A woman reading a laptop set on a stove.', 'A woman looks at a computer that is sitting on a stove.', 'A woman in her pajamas looking at her laptop on the kitchen stove.', 'A young woman standing in front of a laptop computer on a stove.', 'Two people riding different colored horses down a dirty road.', 'Two people riding horses along  a trail', 'Two people riding horses along a scenic trail.', 'A woman in orange and a woman in pink riding horses. ', 'Two helmeted riders proceed down a dirt path on horseback.', 'Outside of a Chinese grocery in the city.', \"This looks like a McDonald's in a Chinese or Japanese community.\", \"A woman is walking outside of a McDonald's in Asia.\", 'A lady and some bikes near a lit business sign.', 'A person and a bike on a city street.', 'A child in a cart behind small pony on race track.', 'A person in blue rides a car attached to a horse around a track.', 'A woman riding a carriage pulled by a brown pony in a race. ', 'A woman riding in cart pulled by a miniature pony. ', 'a person riding a buggy being pulled by a horse', 'Two ladies are standing near a few toilets. ', 'Two women standing in a bathroom with a bunch of open toilets.', 'Two women facing a window in a large ladies bathroom', 'Both women are looking at the toilet bowl shown on the monitor. ', 'Two woman are looking out the window in a bathroom.', 'A woman on a bike with a baby seat holding a dog leash.', 'The woman is riding a bike with a child while walking her dog.', 'A woman riding a bike with her baby on the back and German Shepard on leash.', 'A person walking a dog while riding a bicycle.', 'A woman and her child bike while walking the dog.', 'A woman watching TV with an arm reaching from under the couch. ', 'The flat screen television is being watched by a woman who is cupping her mouth.', 'As a woman watches a TV, an arm reaches out from underneath the couch toward her leg.', 'The woman is sitting on the couch watching TV.', 'A woman watching a giant TV in the dark.', 'A woman sitting on a couch in a public restroom. ', 'A person sitting on a sofa next to some sinks.', 'A person sits on a couch in the restroom', 'The woman sits on a couch in a bathroom. ', 'A woman sitting on a couch next to a bathroom sink.', 'A woman standing in a kitchen next to a table.', 'The woman is working at the kitchen counter.', 'A couple is preparing food in their white kitchen', 'a woman in a blue dress some black chairs and another person looking in an oven', 'Man and woman in the kitchen of a white house.', 'A man riding on the back of a brown horse in front of a truck.', 'A woman riding a horse in front of a car next to a fence. ', 'The woman rides on a horse walks in front of the car.', 'Lady on horse in front of barbed wire fence', 'A woman riding a horse in front of a fence with razor wire', 'People walk by a row of parked motorcycles. ', 'A row of motorcycles is parked on the street as people walk by.', 'A group of people on street next to a row of motorcycles.', 'A woman looking a motorcycles with balloons lined up on a street', 'A group of motorcycles parked next to each other on a street.', 'Two people sitting on a motorcycle that parked on the road.', 'A native American couple on a bike pose for a photo.', 'A man and a woman are riding a motorcycle.', 'A road lined with rock-face shows a man and a woman, both wearing hats, astride a red, white and blue decorated bike. ', 'Two people wearing hats riding a motorcycle together.', 'A woman standing in front of a counter with a plate of food.', 'A woman standing in a kitchen preparing food.', 'A woman in a kitchen arranging cookies on a plate.', 'Woman working on counter near kitchen sink preparing a meal. ', 'A woman organizes a plate of cookies and other foods. ', 'The couple is riding the motorcycle together. ', 'A man and a woman on a motorcycle.', 'A couple ride happily on their motorcycle. ', 'A man riding a motorcycle with a woman on the back.', 'Two motorcycles with two passengers each stopped in the road', 'A street scene with a person on a motorcycle.', 'a person on a motorcycle along a farmers market', 'A woman is showing a watermelon slice to a woman on a scooter.', 'A person on a motorcycle talking to a person with a watermelon.', 'People at a veggie and fruit market looking at the merchandise.', 'a woman poses in front of a giant pizza', 'A woman poses on front of a large pizza', 'A woman holding a knife and fork over a giant pizza.', 'a lady using a knife and fork to cut a pizza', 'The woman has a knife and fork for eating the big pizza.', 'A pretty young lady sitting on a sidewalk next to an older man.', 'A young woman sitting on the curb while others stand nearby.', 'A woman sitting on a curb with a backpack by her feet.', 'a group of people standing near a person sitting on a curb', 'The young woman sits on the curb of the sidewalk ', 'A woman riding a green bike with a small white dog on the back.', \"A woman in a fur coat on a bike with a dog in the bike's basket.\", 'A woman wearing a coat rides a bicycle with a dog. ', 'The woman is riding her bike with her dog on the back.', \"a little dog standing on the back of a woman's bike \", 'Two people on a motorcycle driving up a street.', 'A girl riding on the back of a scooter on a cobbled road. ', 'A girl is riding on back of a motorcycle.', 'A WOMAN AND MAN ON A MOTORCYCLE WITH HELMETS ON.', 'A man and woman riding a motorcycle down the street', 'A woman is riding a bike with something in her hand. ', 'A woman rides a bicycle down a country road holding a cell phone.', 'A woman riding her bike down a farm road.', 'A woman riding a bike down the street.', 'Woman riding on a bicycle holding up a cell phone with her hand. ', 'A lady wearing an apron in a kitchen.', 'A woman standing by a counter in a small kitchen.', 'a woman stands in front of a cupboard with an apron on', 'A woman is standing next to a china cabinet.', 'A woman stands in the kitchen with an apron.', 'A couple of people standing next to a food cart filled with smoke.', 'a lady buying from a man on the street', 'A street vendor serves food to a customer. ', 'People buying food at a food cart on the sidewalk.', 'Two people standing next to a street food stand.', 'A woman standing next to a red scooter near a shelf.', 'Two people standing in front of a display of mopeds.', 'Two people pose for a picture while one points at a moped.', 'two people standing in front of a row of motorcycles in a store', 'two people standing next to a scooter on display', 'The man is giving the young girl a ride on his motorcycle.', 'A man on a Kawasaki motorcycle with a young girl on the back.', 'A MAN IS ON A MOTORCYCLE IWTH A GIRL ', 'A man and a young girl sitting on a bullet bike.', 'Man and child on a Kawasaki motorcycle near an open garage door.', 'a girl is riding her bike down the street', 'The young girl is riding her bike down the street. ', 'The girl is riding her bicycle in the street.', 'a woman riding a bike down the street ', 'a female riding a bike down the street', 'A couple of people standing at a counter with some food.', 'a couple of people are cooking some food ', 'Man and woman choosing dessert from buffet counter near stove hood.', 'Two people are getting food from a buffet.', 'a man and a woman are standing in front of food', 'A woman in red shirt standing in bathroom with sinks and a television.', 'Black television sitting on the corner of a bathroom wall. ', 'A woman photographing a television located in a swank bathroom.', 'A woman stnind in a bathroom with a tv in the top corner.', 'A bathroom with a television mounted in the corner.', 'a gray cat is seen laying on top of a blue tube', 'The cat sits in the basket of a bicyclist.', 'A gray cat sits over the edge of a basket.', 'A cat sits in a basket with a person standing behind. ', 'A cat that is laying down on a hose.', 'a person driving a motorcycle on a closed course', 'A motorcycle is racing around on a track.', 'A motorcycle race going on during the day on some track.', 'A person on a race track riding a motorcycle.', 'a person racing on a motorcycle on a race track.', 'The bus has bikes on the front of it ', 'A person getting on a bus that has bicycles on the rack.', 'A CITY BUS IS ON THE STREET COMING THRU', 'A city bus stops at the edge of the road to pick up passengers.', 'Two bicycles on the bicycle rack of a commuter bus.', 'Black and white photograph of person with birds.', 'A black and white photo of a person close to a pigeon.', 'A person in a hood looking at a pair of birds on a rail.', 'A black and white photo of someone feeding two birds.', 'A person in a hoodie close to perched pigeons.', 'a person in an office setting sitting in a chair', 'Man sitting in blue chair smiling while another stands in the back.', 'A man in a blue shirt sits in his office chair.', 'An Asian gentleman sitting in a blue chair at an open office area.', 'Young Japanese man smiling in his chair possibly in his office.', 'a man on a motorcycle that is in some grass', 'A man is in a yard on a motorcycle.', 'A man wearing a helmet posing on top of a motorcycle.', 'A man riding on the back of a motorcycle on top of a grass field.', 'A person sitting on a motorcycle in the grass.', 'A blurry and out of focus image of a person on a bike riding in a field  towards cows in the distance.', 'A person riding a motorcycle in a cow pasture.', 'A blurry photo of a boy riding his bike through the grass.', 'Blurry picture of a boy riding a bike through a grassy field near some cows', 'We see a blurry picture of a person riding a bike through a field with some cows.', 'a person that is riding a bike next to some seats', 'A bunch of birds that are sitting on steps.', 'There is a cyclist riding above all the pigeons.', 'A man on a bicycle above spectator stands, where pigeons graze.', 'A cyclist pedals past a flock of birds perched on a grating.', 'A man on a bike near people on a bench', 'A nice park setting area with bikers and others around.', 'a man on a bike rides by some other people', 'a person riding a bike on a grass field', 'A group of people standing around and riding bikes.', 'a man riding a red bicycle watching a bird in the water', 'a bird stands in water was a person passes by on a bike ', 'a man on a bike moving besides waters and a long bird standing on it', 'Man riding a bike on the other side of the pond with a bird in it.', 'A bicyclist looking at a stork in shallow water.', 'A busy road with people on bikes and in vehicles is shown.', 'a person on a bicycle a bus a truck and a child', 'The man is riding his bike down the busy city street. ', 'A person on bicycle next to a black truck and child on sidewalk.', 'A kid is standing at the bus stop beside a busy street', 'A person on a motor bike on a city street.', 'A man is riding their motorcycle down the road. ', 'A erson on motorcycle in middle of street next to traffic light.', 'A motorcyle and driver stopped on the crosswalk of an intersection.', 'The motorcyclist has driven through a street intersection.', 'A man and boy ride horse and stir up dust.', 'One  horseback rider trailing a younger horseback rider\\n\\n\\n\\n\\n\\n\\n', 'A man in a red shirt and jeans riding on the back of a horse.', 'A father and son riding horses though a field.', 'a close up of a person on a horse with a child on a horse ']\n"
     ]
    }
   ],
   "source": [
    "captions,all_captions = get_data(img_capts,imgs,train_data)\n",
    "# print(captions)\n",
    "print(all_captions)"
   ]
  },
  {
   "cell_type": "code",
   "execution_count": 23,
   "metadata": {},
   "outputs": [],
   "source": [
    "gender_nouns = ['man','woman','person','boy','girl','men','women','someone',\n",
    "                'lady','boys','girls','gentleman','ladies','gentlemen','person','people',\n",
    "                'child','pedestrian','guy','male','female',\n",
    "               'passenger']\n",
    "gender_pronouns = ['his','he','hers','her''she','its','it']\n",
    "verb_tags = ['VBG','VBD','VBN','VB']\n",
    "adj_tags = ['JJ','JJR','JJS']\n",
    "noun_tags = ['NN','NNS','NNP','NNPS']"
   ]
  },
  {
   "cell_type": "code",
   "execution_count": 14,
   "metadata": {},
   "outputs": [],
   "source": [
    "def get_tag_dicts(get_tags):\n",
    "    gender_tags_dict = defaultdict(list)\n",
    "    pronoun_tags_dict = defaultdict(list)\n",
    "    for caption in all_captions:\n",
    "        # verbs : VBG, VBD, VBN\n",
    "        tokens = nltk.word_tokenize(caption)\n",
    "\n",
    "        if any(nn in tokens for nn in gender_nouns) or any(pn in tokens for pn in gender_pronouns):\n",
    "            tags = nltk.pos_tag(tokens)\n",
    "\n",
    "            only_tags = [tag[1] for tag in tags]\n",
    "            if any(get_tag in only_tags for get_tag in get_tags):\n",
    "                only_verbs = [tag[0] for tag in tags if tag[1] in get_tags]\n",
    "                if set(gender_nouns).intersection(tokens):   \n",
    "\n",
    "                    for nn in set(gender_nouns).intersection(tokens):\n",
    "\n",
    "                        gender_tags_dict[nn].extend(only_verbs)\n",
    "\n",
    "                if set(gender_pronouns).intersection(tokens):\n",
    "                    for pn in set(gender_pronouns).intersection(tokens):\n",
    "    #                     print(pn, pronoun_tags_dict[pn])\n",
    "                        pronoun_tags_dict[pn].extend(only_verbs)\n",
    "    \n",
    "    return gender_tags_dict, pronoun_tags_dict"
   ]
  },
  {
   "cell_type": "code",
   "execution_count": 24,
   "metadata": {},
   "outputs": [
    {
     "name": "stdout",
     "output_type": "stream",
     "text": [
      "defaultdict(<class 'list'>, {'guy': ['wearing', 'riding', 'sitting'], 'man': ['riding', 'driving', 'attached', 'decorated', 'fastened', 'riding', 'attached', 'peeling', 'kneeling', 'searching', 'wearing', 'peering', 'parked', 'putting', 'sitting', 'looking', 'riding', 'riding', 'wearing', 'sitting', 'wearing', 'wearing', 'decorated', 'themed', 'driving', 'passing', 'riding', 'riding', 'sitting', 'sitting', 'pedaling', 'riding', 'walking', 'riding', 'picking', 'riding', 'getting', 'hit', 'receiving', 'riding', 'carrying', 'carrying', 'manipulated', 'riding', 'wearing', 'wearing', 'watching', 'sitting', 'walking', 'hiking', 'looking', 'looking', 'attached', 'standing', 'walking', 'holding', 'seen', 'walking', 'sitting', 'sitting', 'wearing', 'wearing', 'sitting', 'driving', 'standing', 'pose', 'posing', 'parked', 'laying', 'giving', 'sitting', 'holding', 'holding', 'smiling', 'standing', 'holding', 'holding', 'riding', 'riding', 'lined', 'wearing', 'decorated', 'riding', 'sitting', 'riding', 'giving', 'sitting', 'standing', 'smiling', 'wearing', 'posing', 'riding', 'riding', 'watching', 'moving', 'standing', 'riding', 'riding', 'stir', 'riding'], 'passenger': ['making'], 'person': ['doing', 'burning', 'peer', 'putting', 'mounting', 'passing', 'dressed', 'riding', 'riding', 'wearing', 'riding', 'riding', 'riding', 'sitting', 'looking', 'walking', 'driving', 'attached', 'riding', 'being', 'pulled', 'walking', 'riding', 'sitting', 'looking', 'talking', 'standing', 'sitting', 'standing', 'driving', 'riding', 'racing', 'getting', 'looking', 'perched', 'setting', 'sitting', 'sitting', 'riding', 'riding', 'riding', 'riding', 'riding', 'was'], 'men': ['sitting'], 'woman': ['picking', 'sitting', 'riding', 'getting', 'hit', 'receiving', 'manipulated', 'riding', 'wearing', 'preparing', 'wearing', 'loading', 'using', 'reading', 'sitting', 'looking', 'standing', 'riding', 'walking', 'riding', 'pulled', 'riding', 'pulled', 'looking', 'holding', 'riding', 'walking', 'riding', 'walking', 'watching', 'being', 'watched', 'cupping', 'sitting', 'watching', 'sitting', 'sitting', 'standing', 'working', 'looking', 'riding', 'riding', 'looking', 'lined', 'riding', 'lined', 'wearing', 'decorated', 'standing', 'standing', 'preparing', 'arranging', 'riding', 'showing', 'holding', 'eating', 'sitting', 'sitting', 'riding', 'wearing', 'riding', 'standing', 'riding', 'riding', 'holding', 'riding', 'riding', 'standing', 'standing', 'standing', 'riding', 'choosing', 'standing', 'standing', 'photographing', 'located'], 'gentleman': ['passing', 'loaded', 'sitting'], 'people': ['decorated', 'riding', 'watching', 'standing', 'walking', 'riding', 'riding', 'riding', 'parked', 'sitting', 'parked', 'wearing', 'riding', 'standing', 'sitting', 'driving', 'standing', 'filled', 'standing', 'standing', 'standing', 'standing', 'standing', 'cooking', 'getting', 'standing', 'riding', 'shown'], 'child': ['putting', 'riding', 'walking', 'walking'], 'boy': ['wearing', 'putting', 'wearing', 'standing', 'luggage', 'wearing', 'dressed', 'pulling', 'putting', 'riding', 'riding', 'stir'], 'women': ['walking', 'hiking', 'loading', 'standing', 'facing', 'looking', 'shown'], 'girl': ['putting', 'riding', 'riding', 'giving', 'sitting', 'riding', 'riding', 'riding'], 'ladies': ['standing', 'facing'], 'lady': ['using', 'cut', 'sitting', 'wearing'], 'female': ['riding'], 'someone': ['feeding']})\n",
      "defaultdict(<class 'list'>, {'his': ['attached', 'wearing', 'sitting', 'sitting', 'watching', 'seen', 'walking', 'sitting', 'standing', 'pose', 'posing', 'parked', 'holding', 'giving', 'smiling', 'riding', 'riding'], 'its': ['tipped', 'holding'], 'it': ['riding', 'Riding', 'bikes', 'moving', 'standing', 'riding']})\n"
     ]
    }
   ],
   "source": [
    "gender_dict, pronoun_dict = get_tag_dicts(verb_tags)\n",
    "gender_count,pronoun_count = {},{}\n",
    "print (gender_dict)\n",
    "print (pronoun_dict)"
   ]
  },
  {
   "cell_type": "code",
   "execution_count": 27,
   "metadata": {},
   "outputs": [],
   "source": [
    "def top_n_items(nn='woman',pos='verb',count=0):\n",
    "    global gender_count, pronoun_count\n",
    "    corresp_tags = {'adj': adj_tags, 'verb':verb_tags, 'noun':noun_tags}\n",
    "    gender_dict, pronoun_dict = get_tag_dicts(corresp_tags[pos])  \n",
    "    gender_count,pronoun_count = {},{}\n",
    "    \n",
    "    for (key1, value1) in gender_dict.items():\n",
    "        gender_count[key1] = set([(i,value1.count(i)) for i in value1 if i not in gender_nouns])\n",
    "    for (key2, value2) in pronoun_dict.items():   \n",
    "        pronoun_count[key2] = set([(i,value2.count(i)) for i in value2 if i not in gender_nouns])     \n",
    "    \n",
    "    dictionary = gender_count if nn in gender_nouns else pronoun_count\n",
    "    if count==0:\n",
    "        return\n",
    "    print(sorted(dict(dictionary[nn]), key = dict(dictionary[nn]).get, reverse=True)[:count])"
   ]
  },
  {
   "cell_type": "code",
   "execution_count": 28,
   "metadata": {},
   "outputs": [
    {
     "name": "stdout",
     "output_type": "stream",
     "text": [
      "['riding', 'standing', 'sitting', 'looking', 'wearing', 'walking', 'holding', 'lined', 'watching', 'preparing', 'pulled', 'choosing', 'showing', 'getting', 'arranging']\n"
     ]
    }
   ],
   "source": [
    "top_n_items('woman','verb',15)"
   ]
  },
  {
   "cell_type": "code",
   "execution_count": 29,
   "metadata": {},
   "outputs": [
    {
     "name": "stdout",
     "output_type": "stream",
     "text": [
      "['motorcycle', 'bike', 'bicycle', 'street', 'front', 'back', 'helmet', 'boat', 'road', 'water', 'scooter', 'dog', 'horse', 'bus', 'car']\n"
     ]
    }
   ],
   "source": [
    "top_n_items('man','noun',15)"
   ]
  },
  {
   "cell_type": "code",
   "execution_count": 35,
   "metadata": {},
   "outputs": [],
   "source": [
    "def counts():\n",
    "    global all_count,pro_all_count\n",
    "    all_count = {}\n",
    "    pro_all_count = {}    \n",
    "    for item1 in gender_count:\n",
    "        all_count[item1] = {each[0]:each[1] for each in gender_count[item1]}\n",
    "    for item2 in pronoun_count:\n",
    "        pro_all_count[item2]= {each[0]:each[1] for each in pronoun_count[item2]}\n",
    "\n",
    "def bias(gender1 = 'man',gender2 = 'woman'):\n",
    "    global bias_dict1,bias_dict2,data\n",
    "    # data : gender nouns or pronouns : all_count or pro_all_count\n",
    "#     data = all_count.copy() if gender in gender_nouns else pro_all_count.copy()\n",
    "    \n",
    "    data = all_count.copy()\n",
    "    counts()\n",
    "    dictionary = set([a for key,values in data.items() for a in values if key==gender1 or key==gender2])    \n",
    "#     print(data)\n",
    "    bias_dict1, bias_dict2 = {}, {} \n",
    "    for word in dictionary:\n",
    "        gender1_count = data[gender1].get(word,0)\n",
    "        gender2_count = data[gender2].get(word,0)\n",
    "        if gender1_count!=0 and gender2_count!=0: bias_dict1[word] = gender1_count/(gender1_count+gender2_count)\n",
    "        if gender1_count!=0 and gender2_count!=0: bias_dict2[word] = gender2_count/(gender1_count+gender2_count)\n",
    "\n"
   ]
  },
  {
   "cell_type": "code",
   "execution_count": 36,
   "metadata": {},
   "outputs": [
    {
     "name": "stdout",
     "output_type": "stream",
     "text": [
      "motorcycle 0.878 36\n",
      "bicycle 0.8333 10\n",
      "bus 0.8 4\n",
      "top 0.75 3\n",
      "shirt 0.75 3\n",
      "hand 0.6667 2\n",
      "street 0.6667 10\n",
      "sidewalk 0.6667 2\n",
      "stands 0.6667 2\n",
      "car 0.6 3\n",
      "horse 0.5714 4\n",
      "bike 0.5625 18\n",
      "children 0.5 1\n",
      "hair 0.5 1\n",
      "bellhop 0.5 1\n",
      "bikes 0.5 1\n",
      "motorbike 0.5 1\n",
      "back 0.5 5\n",
      "suit 0.5 1\n",
      "parade 0.5 1\n",
      "road 0.5 4\n",
      "shows 0.5 1\n",
      "dark 0.5 1\n",
      "rock-face 0.5 1\n",
      "scooter 0.5 4\n",
      "cart 0.5 1\n",
      "piece 0.5 1\n",
      "hats 0.5 2\n",
      "blue 0.5 2\n",
      "luggage 0.5 1\n",
      "seat 0.5 1\n",
      "image 0.5 1\n",
      "baggage 0.5 1\n",
      "front 0.4375 7\n",
      "food 0.3333 2\n",
      "dog 0.3333 4\n",
      "farm 0.3333 1\n",
      "apron 0.3333 1\n",
      "dress 0.3333 1\n",
      "computer 0.25 1\n",
      "stove 0.125 1\n",
      "kitchen 0.0833 1\n"
     ]
    }
   ],
   "source": [
    "bias()\n",
    "gender1 = 'man'\n",
    "gender2 = 'woman'\n",
    "# print(bias_dict1)\n",
    "for i in sorted(bias_dict1, key=bias_dict1.get,reverse=True):\n",
    "    if bias_dict1[i]>0.0:\n",
    "        print(i,round(bias_dict1[i],4),data[gender1][i])"
   ]
  },
  {
   "cell_type": "code",
   "execution_count": null,
   "metadata": {},
   "outputs": [],
   "source": []
  }
 ],
 "metadata": {
  "kernelspec": {
   "display_name": "Python 3",
   "language": "python",
   "name": "python3"
  },
  "language_info": {
   "codemirror_mode": {
    "name": "ipython",
    "version": 3
   },
   "file_extension": ".py",
   "mimetype": "text/x-python",
   "name": "python",
   "nbconvert_exporter": "python",
   "pygments_lexer": "ipython3",
   "version": "3.7.6"
  }
 },
 "nbformat": 4,
 "nbformat_minor": 4
}
