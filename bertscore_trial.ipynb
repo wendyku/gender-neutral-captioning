{
  "nbformat": 4,
  "nbformat_minor": 0,
  "metadata": {
    "kernelspec": {
      "display_name": "Python 3",
      "language": "python",
      "name": "python3"
    },
    "language_info": {
      "codemirror_mode": {
        "name": "ipython",
        "version": 3
      },
      "file_extension": ".py",
      "mimetype": "text/x-python",
      "name": "python",
      "nbconvert_exporter": "python",
      "pygments_lexer": "ipython3",
      "version": "3.7.3"
    },
    "colab": {
      "name": "bertscore_trial.ipynb",
      "provenance": [],
      "collapsed_sections": [],
      "toc_visible": true,
      "include_colab_link": true
    },
    "accelerator": "GPU"
  },
  "cells": [
    {
      "cell_type": "markdown",
      "metadata": {
        "id": "view-in-github",
        "colab_type": "text"
      },
      "source": [
        "<a href=\"https://colab.research.google.com/github/wendyku/gender-neutral-captioning/blob/master/bertscore_trial.ipynb\" target=\"_parent\"><img src=\"https://colab.research.google.com/assets/colab-badge.svg\" alt=\"Open In Colab\"/></a>"
      ]
    },
    {
      "cell_type": "markdown",
      "metadata": {
        "id": "M4TBDQN4P1g6",
        "colab_type": "text"
      },
      "source": [
        "## Utility functions"
      ]
    },
    {
      "cell_type": "code",
      "metadata": {
        "id": "k9kBenQUWXQW",
        "colab_type": "code",
        "colab": {
          "base_uri": "https://localhost:8080/",
          "height": 185
        },
        "outputId": "57693ac5-f3b8-4506-83e5-e835cc6bae85"
      },
      "source": [
        "!pip install wget\n",
        "import wget\n",
        "wget.download('http://images.cocodataset.org/zips/train2014.zip', '')"
      ],
      "execution_count": 1,
      "outputs": [
        {
          "output_type": "stream",
          "text": [
            "Collecting wget\n",
            "  Downloading https://files.pythonhosted.org/packages/47/6a/62e288da7bcda82b935ff0c6cfe542970f04e29c756b0e147251b2fb251f/wget-3.2.zip\n",
            "Building wheels for collected packages: wget\n",
            "  Building wheel for wget (setup.py) ... \u001b[?25l\u001b[?25hdone\n",
            "  Created wheel for wget: filename=wget-3.2-cp36-none-any.whl size=9682 sha256=2d1967a38c267ac01f350ff6de03c190aa3caaa0a3c95392f0fec866fadcf56e\n",
            "  Stored in directory: /root/.cache/pip/wheels/40/15/30/7d8f7cea2902b4db79e3fea550d7d7b85ecb27ef992b618f3f\n",
            "Successfully built wget\n",
            "Installing collected packages: wget\n",
            "Successfully installed wget-3.2\n"
          ],
          "name": "stdout"
        },
        {
          "output_type": "execute_result",
          "data": {
            "text/plain": [
              "'train2014.zip'"
            ]
          },
          "metadata": {
            "tags": []
          },
          "execution_count": 1
        }
      ]
    },
    {
      "cell_type": "code",
      "metadata": {
        "id": "JIF7oHV_Xt89",
        "colab_type": "code",
        "colab": {}
      },
      "source": [
        "!unzip 'train2014.zip'"
      ],
      "execution_count": 0,
      "outputs": []
    },
    {
      "cell_type": "code",
      "metadata": {
        "id": "VPx7H638P1g7",
        "colab_type": "code",
        "colab": {}
      },
      "source": [
        "import glob\n",
        "import json\n",
        "import random\n",
        "\n",
        "def get_data(image_folder_path, annotations_path, sample_size, datatype = 'train'):\n",
        "    \n",
        "    # Get paths of individual images\n",
        "    images_path = glob.glob(f\"{image_folder_path}{datatype}2014/*\")\n",
        "    \n",
        "    # Extract a list of all images that includes human\n",
        "    with open(f'{annotations_path}instances_{datatype}2014.json', encoding='utf-8') as f:\n",
        "      instances_json = json.load(f)\n",
        "    image_category_dict = dict()\n",
        "    for i in range(len(instances_json['annotations'])):\n",
        "        cat_id = instances_json['annotations'][i]['category_id']\n",
        "        image_id = instances_json['annotations'][i]['image_id']\n",
        "        # If we are to exclude images of more than one person\n",
        "        # if instances_json['annotations'][i]['iscrowd'] == 0:\n",
        "        if cat_id in image_category_dict:\n",
        "            image_category_dict[cat_id] += [image_id]\n",
        "        else:\n",
        "            image_category_dict[cat_id] = [image_id]\n",
        "    human_image_ids = set(image_category_dict[1]) #human images are of category 1, remove duplicates\n",
        "    \n",
        "    # Select sample out of all human images\n",
        "    training_image_ids = random.sample(human_image_ids, sample_size)\n",
        "    \n",
        "    # Build dictionaries to map image ids to filenames and captions to images\n",
        "    with open(f'{annotations_path}captions_{datatype}2014.json', encoding='utf-8') as f:\n",
        "      captions_json = json.load(f)\n",
        "\n",
        "    image_id_dict = dict()\n",
        "    # key = image_id, value = image_fname\n",
        "    for i in range(len(captions_json['images'])):\n",
        "        image_id = captions_json['images'][i]['id']\n",
        "        image_fname = captions_json['images'][i]['file_name']\n",
        "        image_id_dict[image_id] = image_fname\n",
        "\n",
        "    captions_dict = dict()\n",
        "    # key = image_id, value = list of captions\n",
        "    for i in range(len(captions_json['annotations'])):\n",
        "        image_id = captions_json['annotations'][i]['image_id']\n",
        "        caption = captions_json['annotations'][i]['caption']\n",
        "        if image_id in training_image_ids and image_id in captions_dict:\n",
        "            captions_dict[image_id] += [caption]\n",
        "        elif image_id in training_image_ids:\n",
        "            captions_dict[image_id] = [caption]\n",
        "            \n",
        "    return training_image_ids, images_path, image_id_dict, captions_dict"
      ],
      "execution_count": 0,
      "outputs": []
    },
    {
      "cell_type": "code",
      "metadata": {
        "scrolled": true,
        "id": "0mssPblSP1g-",
        "colab_type": "code",
        "colab": {}
      },
      "source": [
        "###### Example of selected captions\n",
        "import matplotlib.pyplot as plt\n",
        "\n",
        "image_folder_path = ''\n",
        "annotations_path = ''\n",
        "sample_size = 10\n",
        "training_image_ids, images_path, image_id_dict, captions_dict = get_data(image_folder_path, annotations_path, sample_size)\n",
        "egs = random.sample(training_image_ids, 10)\n",
        "for eg in egs:\n",
        "    img = plt.imread(image_folder_path + \"train2014/\"+ image_id_dict[eg])\n",
        "    plt.imshow(img)\n",
        "    plt.show()\n",
        "    print(captions_dict[eg])"
      ],
      "execution_count": 0,
      "outputs": []
    },
    {
      "cell_type": "markdown",
      "metadata": {
        "id": "k1Fh5eqfP1hB",
        "colab_type": "text"
      },
      "source": [
        "## Data pre-processing"
      ]
    },
    {
      "cell_type": "code",
      "metadata": {
        "id": "kJy4rUUHP1hC",
        "colab_type": "code",
        "outputId": "2c54ea76-ccb5-45b2-b35a-642c7909bb69",
        "colab": {
          "base_uri": "https://localhost:8080/",
          "height": 50
        }
      },
      "source": [
        "import nltk\n",
        "import pickle\n",
        "from collections import Counter\n",
        "nltk.download('punkt')\n",
        "\n",
        "class Vocabulary(object):\n",
        "    \n",
        "    def __init__(self, captions_dict, vocab_threshold = 4,\\\n",
        "              start_word = '<BOS>', end_word = '<EOS>', unk_word = '<UNK>'):\n",
        "        self.vocab_threshold = vocab_threshold # Minimum count of words for a word to be considered in the vocabulary\n",
        "        self.start_word = start_word # Token to denote beginning of sentence, end of sentence and unknown word\n",
        "        self.end_word = end_word\n",
        "        self.unk_word = unk_word\n",
        "        # Extract captions from captions_dict\n",
        "        self.captions = []\n",
        "        for sublist in captions_dict.values():\n",
        "            for item in sublist:\n",
        "                self.captions.append(item)\n",
        "        # Initiate dictionaries to convert tokens to/from integers\n",
        "        self.word2idx = {}\n",
        "        self.idx2word = {}\n",
        "        self.idx = 0\n",
        "        self.get_vocab()\n",
        "        self.save_vocab()\n",
        "    \n",
        "    def get_vocab(self):\n",
        "        self.add_word(self.start_word)\n",
        "        self.add_word(self.end_word)\n",
        "        self.add_word(self.unk_word)\n",
        "        self.add_captions()\n",
        "    \n",
        "    def add_word(self, word):\n",
        "        if word not in self.word2idx:\n",
        "            self.word2idx[word] = self.idx\n",
        "            self.idx2word[self.idx] = word\n",
        "            self.idx += 1\n",
        "    \n",
        "    def add_captions(self):\n",
        "        counter = Counter()\n",
        "        for i, caption in enumerate(self.captions):\n",
        "            tokens = nltk.tokenize.word_tokenize(caption.lower())\n",
        "            counter.update(tokens)\n",
        "            \n",
        "            if i % 100 == 0:\n",
        "                print(f\"Tokenize captions: {i, len(self.captions)}\")\n",
        "        \n",
        "        for word, count in counter.items():\n",
        "            if count >= self.vocab_threshold:\n",
        "                self.add_word(word)\n",
        "    \n",
        "    def save_vocab(self):\n",
        "        with open('vocab.pkl', \"wb\") as f:\n",
        "            pickle.dump(self, f)\n",
        "    \n",
        "    def __call__(self, word):\n",
        "        if not word in self.word2idx:\n",
        "            return self.word2idx[self.unk_word]\n",
        "        return self.word2idx[word]\n",
        "    \n",
        "    def __len__(self):\n",
        "        return len(self.word2idx)"
      ],
      "execution_count": 0,
      "outputs": [
        {
          "output_type": "stream",
          "text": [
            "[nltk_data] Downloading package punkt to /root/nltk_data...\n",
            "[nltk_data]   Package punkt is already up-to-date!\n"
          ],
          "name": "stdout"
        }
      ]
    },
    {
      "cell_type": "code",
      "metadata": {
        "id": "wxSSZ5YaP1hE",
        "colab_type": "code",
        "colab": {}
      },
      "source": [
        "import torch\n",
        "import nltk\n",
        "import numpy as np\n",
        "import pickle\n",
        "from torchvision import transforms\n",
        "from torch.utils.data.dataset import Dataset\n",
        "from torch.utils.data import DataLoader\n",
        "from PIL import Image\n",
        "\n",
        "class MyDataset(Dataset):\n",
        "    \n",
        "    def __init__(self, image_folder_path, annotation_path, data_type = 'train', sample_size = 100,\n",
        "              vocab_threshold = 5, batch_size = 10):\n",
        "        assert data_type in ['train', 'val', 'test']\n",
        "        \n",
        "        self.data_type = data_type\n",
        "        self.image_folder_path = image_folder_path\n",
        "        self.batch_size = batch_size\n",
        "        self.data_type = data_type\n",
        "        \n",
        "        # Obtain sample of training images\n",
        "        self.training_image_ids, self.images_path, self.image_id_dict, captions_dict \\\n",
        "        = get_data(image_folder_path, annotations_path, sample_size, data_type)\n",
        "        \n",
        "        # Set up vocabulary or load from training set\n",
        "        if self.data_type == 'train':\n",
        "            self.vocab = Vocabulary(captions_dict)\n",
        "            print('Vocabulary successfully created')\n",
        "        else:\n",
        "            with open('vocab.pkl', \"rb\") as f:\n",
        "                self.vocab = pickle.load(f)\n",
        "                self.word2idx = vocab.word2idx\n",
        "                self.idx2word = vocab.idx2word\n",
        "                print('Vocabulary successfully loaded')\n",
        "        \n",
        "        # Set up dataset\n",
        "        self.im_ids = []\n",
        "        self.captions = []\n",
        "        self.images = []\n",
        "        self.captions_len = []\n",
        "        for im_id, captions_list in captions_dict.items():\n",
        "            for item in captions_list:\n",
        "                self.im_ids.append(im_id)\n",
        "                self.captions.append(item)\n",
        "                self.captions_len.append(len(nltk.tokenize.word_tokenize(item)))\n",
        "        \n",
        "        # Set up paramteres for image feature extraction \n",
        "        self.transform = transforms.Compose([\n",
        "            transforms.Resize(256),\n",
        "            transforms.RandomCrop(224),\n",
        "            transforms.RandomHorizontalFlip(),\n",
        "            transforms.ToTensor(),\n",
        "            transforms.Normalize((0.485, 0.456, 0.406),(0.229, 0.224, 0.225)),\n",
        "        ])\n",
        "    \n",
        "    def __getitem__(self, index):\n",
        "        im_id = self.im_ids[index]\n",
        "        \n",
        "        # Convert image to tensor\n",
        "        image = Image.open(self.image_folder_path + f\"{self.data_type}2014/\"+ self.image_id_dict[im_id]).convert(\"RGB\")\n",
        "        image = self.transform(image)\n",
        "        \n",
        "        # Tokenize captions\n",
        "        tokens = nltk.tokenize.word_tokenize(str(self.captions[index]).lower())\n",
        "        caption = []\n",
        "        caption.append(self.vocab(self.vocab.start_word))\n",
        "        caption.extend([self.vocab(token) for token in tokens])\n",
        "        caption.append(self.vocab(self.vocab.end_word))\n",
        "        caption = torch.Tensor(caption).long()\n",
        "        \n",
        "        return image, caption\n",
        "    \n",
        "    def get_indices(self):\n",
        "        #random.seed(0)\n",
        "        search_len = np.random.choice(self.captions_len)\n",
        "        all_indices = np.where([self.captions_len[i] == search_len\\\n",
        "                for i in range(len(self.captions_len))])[0]\n",
        "        indices = list(np.random.choice(all_indices, size = self.batch_size))\n",
        "        return indices\n",
        "    \n",
        "    def __len__(self):\n",
        "        return len(self.ids)\n",
        "    \n",
        "    "
      ],
      "execution_count": 0,
      "outputs": []
    },
    {
      "cell_type": "code",
      "metadata": {
        "id": "5vAxygZjP1hG",
        "colab_type": "code",
        "colab": {}
      },
      "source": [
        "class TestDataset(Dataset):\n",
        "    \n",
        "    def __init__(self, image_folder_path, annotation_path, data_type = 'train', sample_size = 1,\n",
        "              vocab_threshold = 5, batch_size = 1):\n",
        "        self.image_folder_path = image_folder_path\n",
        "        self.batch_size = batch_size\n",
        "        self.data_type = data_type\n",
        "        \n",
        "        # Obtain sample of training images\n",
        "        self.training_image_ids, self.images_path, self.image_id_dict, captions_dict \\\n",
        "        = get_data(image_folder_path, annotations_path, sample_size, data_type)\n",
        "        \n",
        "        # Set up vocabulary\n",
        "        with open('vocab.pkl', \"rb\") as f:\n",
        "            self.vocab = pickle.load(f)\n",
        "            self.word2idx = vocab.word2idx\n",
        "            self.idx2word = vocab.idx2word\n",
        "            print('Vocabulary successfully loaded')\n",
        "        \n",
        "        # Set up dataset\n",
        "        self.im_ids = []\n",
        "        self.captions = []\n",
        "        self.images = []\n",
        "        self.captions_len = []\n",
        "        for im_id, captions_list in captions_dict.items():\n",
        "            for item in captions_list:\n",
        "                self.im_ids.append(im_id)\n",
        "                self.captions.append(item)\n",
        "                self.captions_len.append(len(nltk.tokenize.word_tokenize(item)))\n",
        "        \n",
        "        # Set up paramteres for image feature extraction \n",
        "        self.transform = transforms.Compose([\n",
        "            transforms.Resize(256),\n",
        "            transforms.RandomCrop(224),\n",
        "            transforms.RandomHorizontalFlip(),\n",
        "            transforms.ToTensor(),\n",
        "            transforms.Normalize((0.485, 0.456, 0.406),(0.229, 0.224, 0.225)),\n",
        "        ])\n",
        "    \n",
        "    def __getitem__(self, index):\n",
        "        im_id = self.im_ids[index]\n",
        "        \n",
        "        # Convert image to tensor\n",
        "        image = Image.open(self.image_folder_path + f\"{self.data_type}2014/\"+ self.image_id_dict[im_id]).convert(\"RGB\")\n",
        "        original_image = np.array(image)\n",
        "        transformed_image = self.transform(image)\n",
        "        \n",
        "        return original_image, transformed_image\n",
        "    \n",
        "    def get_indices(self):\n",
        "        #random.seed(0)\n",
        "        search_len = np.random.choice(self.captions_len)\n",
        "        all_indices = np.where([self.captions_len[i] == search_len\\\n",
        "                for i in range(len(self.captions_len))])[0]\n",
        "        indices = list(np.random.choice(all_indices, size = self.batch_size))\n",
        "        return indices\n",
        "    \n",
        "    def __len__(self):\n",
        "        return len(self.im_ids)"
      ],
      "execution_count": 0,
      "outputs": []
    },
    {
      "cell_type": "code",
      "metadata": {
        "id": "bvHw0c40P1hI",
        "colab_type": "code",
        "colab": {}
      },
      "source": [
        "def load_data(image_folder_path, annotations_path, data_type, sample_size):\n",
        "    # Initiate instance of MyDataset class\n",
        "    num_workers = 0\n",
        "    dataset = MyDataset(image_folder_path, annotations_path, data_type, sample_size)\n",
        "    indices = dataset.get_indices()\n",
        "    initial_sampler = data.sampler.SubsetRandomSampler(indices=indices)\n",
        "    data_loader = data.DataLoader(dataset=dataset, num_workers=num_workers,\\\n",
        "                  batch_sampler=\\\n",
        "                 data.sampler.BatchSampler(sampler=initial_sampler,\\\n",
        "                 batch_size=dataset.batch_size,drop_last=False))\n",
        "    \n",
        "    return data_loader\n",
        "    "
      ],
      "execution_count": 0,
      "outputs": []
    },
    {
      "cell_type": "code",
      "metadata": {
        "id": "pSePquatP1hK",
        "colab_type": "code",
        "colab": {}
      },
      "source": [
        "def load_test_data(image_folder_path, annotations_path, data_type):\n",
        "    # Initiate instance of MyDataset class\n",
        "    num_workers = 0\n",
        "    dataset = TestDataset(image_folder_path, annotations_path, data_type)\n",
        "    data_loader = data.DataLoader(dataset=dataset, num_workers=num_workers,\\\n",
        "                 batch_size=dataset.batch_size, shuffle = True)\n",
        "    \n",
        "    return data_loader"
      ],
      "execution_count": 0,
      "outputs": []
    },
    {
      "cell_type": "markdown",
      "metadata": {
        "id": "HVk-Ww99P1hN",
        "colab_type": "text"
      },
      "source": [
        "## Encoder CNN and Decoder RNN setup"
      ]
    },
    {
      "cell_type": "code",
      "metadata": {
        "id": "CePMGpn-P1hO",
        "colab_type": "code",
        "colab": {}
      },
      "source": [
        "import torch\n",
        "import torch.nn as nn\n",
        "import torchvision.models as models\n",
        "from torch.nn import functional as f"
      ],
      "execution_count": 0,
      "outputs": []
    },
    {
      "cell_type": "code",
      "metadata": {
        "id": "U3Nn2RD7P1hR",
        "colab_type": "code",
        "colab": {}
      },
      "source": [
        "class EncoderCNN(nn.Module):\n",
        "    \n",
        "    def __init__(self, embed_size):\n",
        "        super(EncoderCNN, self).__init__()\n",
        "        # Use pretrained ResNet-50 weights\n",
        "        res = models.resnet50(pretrained = True)\n",
        "        modules = list(res.children())[:-1]\n",
        "        self.res = nn.Sequential(*modules)\n",
        "        self.embed = nn.Linear(res.fc.in_features, embed_size)\n",
        "        self.bn = nn.BatchNorm1d(embed_size, momentum = 0.01)\n",
        "    \n",
        "    def forward(self, images):\n",
        "        # Extract feature vectors from image inputs\n",
        "        with torch.no_grad():\n",
        "            features = self.res(images)\n",
        "        features = features.view(features.size(0), -1)\n",
        "        features = self.embed(features)\n",
        "        features = self.bn(features)\n",
        "        return features\n"
      ],
      "execution_count": 0,
      "outputs": []
    },
    {
      "cell_type": "code",
      "metadata": {
        "id": "GVx1y55JP1hT",
        "colab_type": "code",
        "colab": {}
      },
      "source": [
        "class DecoderRNN(nn.Module):\n",
        "    \n",
        "    def __init__(self, embed_size, hidden_size, vocab_size, num_layers = 1):\n",
        "        super(DecoderRNN, self).__init__()\n",
        "        self.embed = nn.Embedding(vocab_size, embed_size)\n",
        "        self.lstm = nn.LSTM(embed_size, hidden_size, num_layers, batch_first = True)\n",
        "        self.linear = nn.Linear(hidden_size, vocab_size)\n",
        "    \n",
        "    def forward(self, features, captions):\n",
        "        # Decode image feature vectors to generate captions\n",
        "        captions = captions [:, :-1]\n",
        "        embeddings = self.embed(captions)\n",
        "        inputs = torch.cat((features.unsqueeze(1), embeddings), 1)\n",
        "        hiddens, _ = self.lstm(inputs)\n",
        "        output = self.linear(hiddens)\n",
        "        return output\n",
        "    \n",
        "    def sample_beam_search (self, inputs, states = None, max_len = 20, beam_width = 5):\n",
        "        # Beam search approach\n",
        "        # Accept a pre-processed image tensor and return top predicted sentences\n",
        "        # Top sentences in indices and their corresponding inputs and states\n",
        "        idx_sequences = [[[], 0.0, inputs, states]]\n",
        "        \n",
        "        for _ in range(max_len):\n",
        "            all_candidates = []\n",
        "            # Predict next word for each top sequences\n",
        "            for idx_seq in idx_sequences:\n",
        "                hiddens, states = self.lstm(idx_seq[2], idx_seq[3])\n",
        "                outputs = self.linear(hiddens.squeeze(1))\n",
        "                log_p = f.log_softmax(outputs, -1)\n",
        "                top_log_p, top_idx = log_p.topk(beam_width, 1)\n",
        "                top_idx = top_idx.squeeze(0)\n",
        "                for i in range(beam_width):\n",
        "                    next_idx_seq, log_p = idx_seq[0][:], idx_seq[1]\n",
        "                    next_idx_seq.append(top_idx[i].item())\n",
        "                    log_p += top_log_p[0][i].item()\n",
        "                    inputs = self.embed(top_idx[i].unsqueeze(0).unsqueeze(0))\n",
        "                    all_candidates.append([next_idx_seq, log_p, inputs, states])\n",
        "            sort_candidates = sorted(all_candidates, key = lambda x: x[1], reverse = True)\n",
        "            idx_sequences = sort_candidates[:beam_width]\n",
        "        return [idx_seq[0] for idx_seq in idx_sequences]     \n",
        "        \n",
        "        "
      ],
      "execution_count": 0,
      "outputs": []
    },
    {
      "cell_type": "markdown",
      "metadata": {
        "id": "0xDpzIrtP1hV",
        "colab_type": "text"
      },
      "source": [
        "## Utility functions for Model Training"
      ]
    },
    {
      "cell_type": "code",
      "metadata": {
        "id": "BVMZNxD1P1hV",
        "colab_type": "code",
        "colab": {}
      },
      "source": [
        "import torch\n",
        "import torch.utils.data as data\n",
        "import matplotlib.pyplot as plt\n",
        "import numpy as np\n",
        "import sys\n",
        "import os\n",
        "import time\n",
        "from nltk.translate.bleu_score import sentence_bleu, SmoothingFunction\n",
        "\n",
        "# Determine how often to print the batch loss while training/validating. \n",
        "# We set this at `100` to avoid clogging the notebook.\n",
        "PRINT_EVERY = 100\n",
        "\n",
        "def train(train_loader, encoder, decoder, criterion, optimizer, vocab_size,\n",
        "          epoch, total_step, start_step=1, start_loss=0.0):\n",
        "    \"\"\"Train the model for one epoch using the provided parameters. Save \n",
        "    checkpoints every 100 steps. Return the epoch's average train loss.\"\"\"\n",
        "\n",
        "    # Switch to train mode\n",
        "    encoder.train()\n",
        "    decoder.train()\n",
        "\n",
        "    # Keep track of train loss\n",
        "    total_loss = start_loss\n",
        "\n",
        "    # Start time for every 100 steps\n",
        "    start_train_time = time.time()\n",
        "\n",
        "    for i_step in range(start_step, total_step + 1):\n",
        "        # Randomly sample a caption length, and sample indices with that length\n",
        "        indices = train_loader.dataset.get_indices()\n",
        "        # Create a batch sampler to retrieve a batch with the sampled indices\n",
        "        new_sampler = data.sampler.SubsetRandomSampler(indices=indices)\n",
        "        train_loader.batch_sampler.sampler = new_sampler\n",
        "\n",
        "        # Obtain the batch\n",
        "        for batch in train_loader:\n",
        "            images, captions = batch[0], batch[1]\n",
        "            break \n",
        "        # Move to GPU if CUDA is available\n",
        "        if torch.cuda.is_available():\n",
        "            images = images.cuda()\n",
        "            captions = captions.cuda()\n",
        "        # Pass the inputs through the CNN-RNN model\n",
        "        features = encoder(images)\n",
        "        outputs = decoder(features, captions)\n",
        "\n",
        "        # Calculate the batch loss\n",
        "        loss = criterion(outputs.view(-1, vocab_size), captions.view(-1))\n",
        "        # Zero the gradients. Since the backward() function accumulates \n",
        "        # gradients, and we don’t want to mix up gradients between minibatches,\n",
        "        # we have to zero them out at the start of a new minibatch\n",
        "        optimizer.zero_grad()\n",
        "        # Backward pass to calculate the weight gradients\n",
        "        loss.backward()\n",
        "        # Update the parameters in the optimizer\n",
        "        optimizer.step()\n",
        "\n",
        "        total_loss += loss.item()\n",
        "\n",
        "        # Get training statistics\n",
        "        stats = \"Epoch %d, Train step [%d/%d], %ds, Loss: %.4f, Perplexity: %5.4f\" \\\n",
        "                % (epoch, i_step, total_step, time.time() - start_train_time,\n",
        "                   loss.item(), np.exp(loss.item()))\n",
        "        # Print training statistics (on same line)\n",
        "        print(\"\\r\" + stats, end=\"\")\n",
        "        sys.stdout.flush()\n",
        "\n",
        "        # Print training stats (on different line), reset time and save checkpoint\n",
        "        if i_step % PRINT_EVERY == 0:\n",
        "            print(\"\\r\" + stats)\n",
        "            filename = os.path.join(\"./models\", \"train-model-{}{}.pkl\".format(epoch, i_step))\n",
        "            save_checkpoint(filename, encoder, decoder, optimizer, total_loss, epoch, i_step)\n",
        "            start_train_time = time.time()\n",
        "            \n",
        "    return total_loss / total_step\n",
        "            \n",
        "def validate(val_loader, encoder, decoder, criterion, vocab, epoch, \n",
        "             total_step, start_step=1, start_loss=0.0, start_bleu=0.0):\n",
        "    \"\"\"Validate the model for one epoch using the provided parameters. \n",
        "    Return the epoch's average validation loss and Bleu-4 score.\"\"\"\n",
        "\n",
        "    # Switch to validation mode\n",
        "    encoder.eval()\n",
        "    decoder.eval()\n",
        "\n",
        "    # Initialize smoothing function\n",
        "    smoothing = SmoothingFunction()\n",
        "\n",
        "    # Keep track of validation loss and Bleu-4 score\n",
        "    total_loss = start_loss\n",
        "    total_bleu_4 = start_bleu\n",
        "\n",
        "    # Start time for every 100 steps\n",
        "    start_val_time = time.time()\n",
        "\n",
        "    # Disable gradient calculation because we are in inference mode\n",
        "    with torch.no_grad():\n",
        "        for i_step in range(start_step, total_step + 1):\n",
        "            # Randomly sample a caption length, and sample indices with that length\n",
        "            indices = val_loader.dataset.get_indices()\n",
        "            # Create a batch sampler to retrieve a batch with the sampled indices\n",
        "            new_sampler = data.sampler.SubsetRandomSampler(indices=indices)\n",
        "            val_loader.batch_sampler.sampler = new_sampler\n",
        "\n",
        "            # Obtain the batch\n",
        "            for batch in val_loader:\n",
        "                images, captions = batch[0], batch[1]\n",
        "                break \n",
        "\n",
        "            # Move to GPU if CUDA is available\n",
        "            if torch.cuda.is_available():\n",
        "                images = images.cuda()\n",
        "                captions = captions.cuda()\n",
        "            \n",
        "            # Pass the inputs through the CNN-RNN model\n",
        "            features = encoder(images)\n",
        "            outputs = decoder(features, captions)\n",
        "\n",
        "            # Calculate the total Bleu-4 score for the batch\n",
        "            batch_bleu_4 = 0.0\n",
        "            # Iterate over outputs. Note: outputs[i] is a caption in the batch\n",
        "            # outputs[i, j, k] contains the model's predicted score i.e. how \n",
        "            # likely the j-th token in the i-th caption in the batch is the \n",
        "            # k-th token in the vocabulary.\n",
        "            for i in range(len(outputs)):\n",
        "                predicted_ids = []\n",
        "                for scores in outputs[i]:\n",
        "                    # Find the index of the token that has the max score\n",
        "                    predicted_ids.append(scores.argmax().item())\n",
        "                # Convert word ids to actual words\n",
        "                predicted_word_list = word_list(predicted_ids, vocab)\n",
        "                caption_word_list = word_list(captions[i].numpy(), vocab)\n",
        "                print(predicted_word_list)\n",
        "                print(caption_word_list, type(caption_word_list))\n",
        "                # Calculate Bleu-4 score and append it to the batch_bleu_4 list\n",
        "                batch_bleu_4 += sentence_bleu([caption_word_list], \n",
        "                                               predicted_word_list, \n",
        "                                               smoothing_function=smoothing.method1)\n",
        "            total_bleu_4 += batch_bleu_4 / len(outputs)\n",
        "\n",
        "            # Calculate the batch loss\n",
        "            loss = criterion(outputs.view(-1, len(vocab)), captions.view(-1))\n",
        "            total_loss += loss.item()\n",
        "            \n",
        "            # Get validation statistics\n",
        "            stats = \"Epoch %d, Val step [%d/%d], %ds, Loss: %.4f, Perplexity: %5.4f, Bleu-4: %.4f\" \\\n",
        "                    % (epoch, i_step, total_step, time.time() - start_val_time,\n",
        "                       loss.item(), np.exp(loss.item()), batch_bleu_4 / len(outputs))\n",
        "\n",
        "            # Print validation statistics (on same line)\n",
        "            print(\"\\r\" + stats, end=\"\")\n",
        "            sys.stdout.flush()\n",
        "\n",
        "            # Print validation statistics (on different line) and reset time\n",
        "            if i_step % PRINT_EVERY == 0:\n",
        "                print(\"\\r\" + stats)\n",
        "                filename = os.path.join(\"./models\", \"val-model-{}{}.pkl\".format(epoch, i_step))\n",
        "                save_val_checkpoint(filename, encoder, decoder, total_loss, total_bleu_4, epoch, i_step)\n",
        "                start_val_time = time.time()\n",
        "                \n",
        "        return total_loss / total_step, total_bleu_4 / total_step\n",
        "\n",
        "def save_checkpoint(filename, encoder, decoder, optimizer, total_loss, epoch, train_step=1):\n",
        "    \"\"\"Save the following to filename at checkpoints: encoder, decoder,\n",
        "    optimizer, total_loss, epoch, and train_step.\"\"\"\n",
        "    torch.save({\"encoder\": encoder.state_dict(),\n",
        "                \"decoder\": decoder.state_dict(),\n",
        "                \"optimizer\" : optimizer.state_dict(),\n",
        "                \"total_loss\": total_loss,\n",
        "                \"epoch\": epoch,\n",
        "                \"train_step\": train_step,\n",
        "               }, filename)\n",
        "\n",
        "def save_val_checkpoint(filename, encoder, decoder, total_loss,\n",
        "    total_bleu_4, epoch, val_step=1):\n",
        "    \"\"\"Save the following to filename at checkpoints: encoder, decoder,\n",
        "    total_loss, total_bleu_4, epoch, and val_step\"\"\"\n",
        "    torch.save({\"encoder\": encoder.state_dict(),\n",
        "                \"decoder\": decoder.state_dict(),\n",
        "                \"total_loss\": total_loss,\n",
        "                \"total_bleu_4\": total_bleu_4,\n",
        "                \"epoch\": epoch,\n",
        "                \"val_step\": val_step,\n",
        "               }, filename)\n",
        "\n",
        "def save_epoch(filename, encoder, decoder, optimizer, train_losses, val_losses, \n",
        "               val_bleu, val_bleus, epoch):\n",
        "    \"\"\"Save at the end of an epoch. Save the model's weights along with the \n",
        "    entire history of train and validation losses and validation bleus up to \n",
        "    now, and the best Bleu-4.\"\"\"\n",
        "    torch.save({\"encoder\": encoder.state_dict(),\n",
        "                \"decoder\": decoder.state_dict(),\n",
        "                \"optimizer\": optimizer.state_dict(),\n",
        "                \"train_losses\": train_losses,\n",
        "                \"val_losses\": val_losses,\n",
        "                \"val_bleu\": val_bleu,\n",
        "                \"val_bleus\": val_bleus,\n",
        "                \"epoch\": epoch\n",
        "               }, filename)\n",
        "\n",
        "def early_stopping(val_bleus, patience=3):\n",
        "    \"\"\"Check if the validation Bleu-4 scores no longer improve for 3 \n",
        "    (or a specified number of) consecutive epochs.\"\"\"\n",
        "    # The number of epochs should be at least patience before checking\n",
        "    # for convergence\n",
        "    if patience > len(val_bleus):\n",
        "        return False\n",
        "    latest_bleus = val_bleus[-patience:]\n",
        "    # If all the latest Bleu scores are the same, return True\n",
        "    if len(set(latest_bleus)) == 1:\n",
        "        return True\n",
        "    max_bleu = max(val_bleus)\n",
        "    if max_bleu in latest_bleus:\n",
        "        # If one of recent Bleu scores improves, not yet converged\n",
        "        if max_bleu not in val_bleus[:len(val_bleus) - patience]:\n",
        "            return False\n",
        "        else:\n",
        "            return True\n",
        "    # If none of recent Bleu scores is greater than max_bleu, it has converged\n",
        "    return True\n",
        "\n",
        "def word_list(word_idx_list, vocab):\n",
        "    \"\"\"Take a list of word ids and a vocabulary from a dataset as inputs\n",
        "    and return the corresponding words as a list.\n",
        "    \"\"\"\n",
        "    word_list = []\n",
        "    for i in range(len(word_idx_list)):\n",
        "        vocab_id = word_idx_list[i]\n",
        "        word = vocab.idx2word[vocab_id]\n",
        "        if word == vocab.end_word:\n",
        "            break\n",
        "        if word != vocab.start_word:\n",
        "            word_list.append(word)\n",
        "    return word_list\n",
        "\n",
        "def clean_sentence(word_idx_list, vocab):\n",
        "    \"\"\"Take a list of word ids and a vocabulary from a dataset as inputs\n",
        "    and return the corresponding sentence (as a single Python string).\n",
        "    \"\"\"\n",
        "    sentences = []\n",
        "    for i in range(len(word_idx_list)):\n",
        "        sentence = []\n",
        "        for vocab_id in word_idx_list[i]:\n",
        "            word = vocab.idx2word[vocab_id]\n",
        "            if word == vocab.end_word:\n",
        "                break\n",
        "            if word != vocab.start_word:\n",
        "                sentence.append(word)\n",
        "        sentence = \" \".join(sentence)\n",
        "        sentences.append(sentence)\n",
        "    return sentences\n",
        "\n",
        "def get_prediction(data_loader, encoder, decoder, vocab):\n",
        "    \"\"\"Loop over images in a dataset and print model's top three predicted \n",
        "    captions using beam search.\"\"\"\n",
        "    orig_image, image = next(iter(data_loader))\n",
        "    plt.imshow(np.squeeze(orig_image))\n",
        "    plt.title(\"Sample Image\")\n",
        "    plt.show()\n",
        "    if torch.cuda.is_available():\n",
        "        image = image.cuda()\n",
        "    features = encoder(image).unsqueeze(1)\n",
        "    #print (\"Caption without beam search:\")\n",
        "    #output = decoder.sample(features)\n",
        "    #sentence = clean_sentence(output, vocab)\n",
        "    #print (sentence)\n",
        "\n",
        "    print (\"Top captions using beam search:\")\n",
        "    outputs = decoder.sample_beam_search(features)\n",
        "    # Print maximum the top 3 predictions\n",
        "    num_sents = min(len(outputs), 3)\n",
        "    for output in outputs[:num_sents]:\n",
        "        sentence = clean_sentence(output, vocab)\n",
        "        print (sentence)"
      ],
      "execution_count": 0,
      "outputs": []
    },
    {
      "cell_type": "markdown",
      "metadata": {
        "id": "mhL-tv9FP1hZ",
        "colab_type": "text"
      },
      "source": [
        "## Train Model"
      ]
    },
    {
      "cell_type": "code",
      "metadata": {
        "id": "VwZ2RwWoP1ha",
        "colab_type": "code",
        "colab": {}
      },
      "source": [
        "import torch\n",
        "import torch.nn as nn\n",
        "import math\n",
        "from torch.autograd import Variable\n",
        "import torch.utils.data as data\n",
        "import numpy as np\n",
        "import os\n",
        "import requests\n",
        "import time"
      ],
      "execution_count": 0,
      "outputs": []
    },
    {
      "cell_type": "code",
      "metadata": {
        "id": "CYbOieXVP1hc",
        "colab_type": "code",
        "outputId": "02f71737-4a37-413e-9d52-38e6acb84dde",
        "colab": {
          "base_uri": "https://localhost:8080/",
          "height": 84
        }
      },
      "source": [
        "image_folder_path = ''\n",
        "annotations_path = ''\n",
        "train_loader = load_data(image_folder_path, annotations_path,\\\n",
        "                         data_type = 'train', sample_size = 10)\n",
        "val_loader = load_data(image_folder_path, annotations_path,\\\n",
        "                       data_type = 'train', sample_size = 2)"
      ],
      "execution_count": 0,
      "outputs": [
        {
          "output_type": "stream",
          "text": [
            "Tokenize captions: (0, 50)\n",
            "Vocabulary successfully created\n",
            "Tokenize captions: (0, 10)\n",
            "Vocabulary successfully created\n"
          ],
          "name": "stdout"
        }
      ]
    },
    {
      "cell_type": "code",
      "metadata": {
        "id": "EvEUFftSP1he",
        "colab_type": "code",
        "outputId": "5c683516-28ec-45f0-9ede-6320241c884a",
        "colab": {
          "base_uri": "https://localhost:8080/",
          "height": 50
        }
      },
      "source": [
        "# Sample a subset of captions with a randomized length\n",
        "indices = train_loader.dataset.get_indices()\n",
        "\n",
        "# Create and assign batch sampler to retrieve a batch with the sampled indices\n",
        "new_sampler = data.sampler.SubsetRandomSampler(indices=indices)\n",
        "train_loader.batch_sampler.sampler = new_sampler\n",
        "    \n",
        "# Load one batch\n",
        "# images, captions = next(iter(data_loader))\n",
        "\n",
        "# Obtain the batch\n",
        "for batch in train_loader:\n",
        "    images, captions = batch[0], batch [1]\n",
        "    \n",
        "print('images.shape:', images.shape)\n",
        "print('captions.shape:', captions.shape)"
      ],
      "execution_count": 0,
      "outputs": [
        {
          "output_type": "stream",
          "text": [
            "images.shape: torch.Size([10, 3, 224, 224])\n",
            "captions.shape: torch.Size([10, 15])\n"
          ],
          "name": "stdout"
        }
      ]
    },
    {
      "cell_type": "code",
      "metadata": {
        "id": "ln9khqHFP1hf",
        "colab_type": "code",
        "colab": {}
      },
      "source": [
        "batch_size = 32\n",
        "embed_size = 256\n",
        "hidden_size = 512\n",
        "num_epochs = 10\n",
        "vocab_size = len(train_loader.dataset.vocab)\n",
        "\n",
        "# Initialize CNN and RNN\n",
        "encoder = EncoderCNN(embed_size)\n",
        "decoder = DecoderRNN(embed_size, hidden_size, vocab_size)\n",
        "\n",
        "# Use GPU if available\n",
        "if torch.cuda.is_available():\n",
        "    encoder.cuda()\n",
        "    decoder.cuda()\n",
        "\n",
        "# Define the loss function\n",
        "criterion = nn.CrossEntropyLoss().cuda()\\\n",
        "if torch.cuda.is_available() else nn.CrossEntropyLoss()\n",
        "\n",
        "# Specify the learnable parameters of the model\n",
        "params = list(decoder.parameters()) + list(encoder.embed.parameters()) + list(encoder.bn.parameters())\n",
        "\n",
        "# Define the optimizer\n",
        "optimizer = torch.optim.Adam(params=params, lr=0.001)"
      ],
      "execution_count": 0,
      "outputs": []
    },
    {
      "cell_type": "code",
      "metadata": {
        "id": "YytqtY0wP1hh",
        "colab_type": "code",
        "outputId": "74df9888-56cf-4042-f004-cdd8e87462ec",
        "colab": {
          "base_uri": "https://localhost:8080/",
          "height": 50
        }
      },
      "source": [
        "import math\n",
        "# Calculate total number of training steps per epoch\n",
        "total_train_step = math.ceil(len(train_loader.dataset.captions_len) / train_loader.batch_sampler.batch_size)\n",
        "print (\"Number of training steps:\", total_train_step)\n",
        "total_val_step = math.ceil(len(val_loader.dataset.captions_len) / val_loader.batch_sampler.batch_size)\n",
        "print (\"Number of training steps:\", total_val_step)\n"
      ],
      "execution_count": 0,
      "outputs": [
        {
          "output_type": "stream",
          "text": [
            "Number of training steps: 5\n",
            "Number of training steps: 1\n"
          ],
          "name": "stdout"
        }
      ]
    },
    {
      "cell_type": "code",
      "metadata": {
        "id": "i8SN5njnP1hj",
        "colab_type": "code",
        "outputId": "eca564bf-608a-4546-b867-9246d02e47e6",
        "colab": {
          "base_uri": "https://localhost:8080/",
          "height": 238
        }
      },
      "source": [
        "train_losses = []\n",
        "val_losses = []\n",
        "val_bleus = []\n",
        "best_val_bleu = float(\"-INF\")\n",
        "\n",
        "start_time = time.time()\n",
        "for epoch in range(1, num_epochs + 1):\n",
        "    train_loss = train(train_loader, encoder, decoder, criterion, optimizer, \n",
        "                       vocab_size, epoch, total_train_step)\n",
        "    train_losses.append(train_loss)\n",
        "    val_loss, val_bleu = validate(val_loader, encoder, decoder, criterion,\n",
        "                                  train_loader.dataset.vocab, epoch, total_val_step)\n",
        "    val_losses.append(val_loss)\n",
        "    val_bleus.append(val_bleu)\n",
        "    if val_bleu > best_val_bleu:\n",
        "        print (\"Validation Bleu-4 improved from {:0.4f} to {:0.4f}, saving model to best-model.pkl\".\n",
        "               format(best_val_bleu, val_bleu))\n",
        "        best_val_bleu = val_bleu\n",
        "        filename = os.path.join(\"\", \"best-model.pkl\")\n",
        "        save_epoch(filename, encoder, decoder, optimizer, train_losses, val_losses, \n",
        "                   val_bleu, val_bleus, epoch)\n",
        "    else:\n",
        "        print (\"Validation Bleu-4 did not improve, saving model to model-{}.pkl\".format(epoch))\n",
        "    # Save the entire model anyway, regardless of being the best model so far or not\n",
        "    filename = os.path.join(\"\", \"model-{}.pkl\".format(epoch))\n",
        "    save_epoch(filename, encoder, decoder, optimizer, train_losses, val_losses, \n",
        "               val_bleu, val_bleus, epoch)\n",
        "    print (\"Epoch [%d/%d] took %ds\" % (epoch, num_epochs, time.time() - start_time))\n",
        "    if epoch > 5:\n",
        "        # Stop if the validation Bleu doesn't improve for 3 epochs\n",
        "        if early_stopping(val_bleus, 3):\n",
        "            break\n",
        "    start_time = time.time()"
      ],
      "execution_count": 0,
      "outputs": [
        {
          "output_type": "stream",
          "text": [
            "Epoch 1, Val step [1/1], 2s, Loss: 2.0408, Perplexity: 7.6970, Bleu-4: 0.4011Validation Bleu-4 improved from -inf to 0.4011, saving model to best-model.pkl\n",
            "Epoch [1/10] took 15s\n",
            "Epoch 2, Val step [1/1], 2s, Loss: 2.0556, Perplexity: 7.8114, Bleu-4: 0.4905Validation Bleu-4 improved from 0.4011 to 0.4905, saving model to best-model.pkl\n",
            "Epoch [2/10] took 15s\n",
            "Epoch 3, Val step [1/1], 2s, Loss: 2.5383, Perplexity: 12.6580, Bleu-4: 0.3257Validation Bleu-4 did not improve, saving model to model-3.pkl\n",
            "Epoch [3/10] took 15s\n",
            "Epoch 4, Val step [1/1], 2s, Loss: 2.6666, Perplexity: 14.3914, Bleu-4: 0.2612Validation Bleu-4 did not improve, saving model to model-4.pkl\n",
            "Epoch [4/10] took 15s\n",
            "Epoch 5, Val step [1/1], 2s, Loss: 2.6833, Perplexity: 14.6328, Bleu-4: 0.2310Validation Bleu-4 did not improve, saving model to model-5.pkl\n",
            "Epoch [5/10] took 15s\n",
            "Epoch 6, Val step [1/1], 2s, Loss: 1.9748, Perplexity: 7.2048, Bleu-4: 0.4363Validation Bleu-4 did not improve, saving model to model-6.pkl\n",
            "Epoch [6/10] took 15s\n"
          ],
          "name": "stdout"
        }
      ]
    },
    {
      "cell_type": "markdown",
      "metadata": {
        "id": "FKpoUFh0P1hl",
        "colab_type": "text"
      },
      "source": [
        "## Generate Captions"
      ]
    },
    {
      "cell_type": "code",
      "metadata": {
        "id": "Tglbx9PDP1hm",
        "colab_type": "code",
        "colab": {}
      },
      "source": [
        "import os\n",
        "from torchvision import transforms\n",
        "import torch\n",
        "import numpy as np\n",
        "import matplotlib.pyplot as plt"
      ],
      "execution_count": 0,
      "outputs": []
    },
    {
      "cell_type": "code",
      "metadata": {
        "id": "ZIuvYDiwP1hn",
        "colab_type": "code",
        "outputId": "afa426ca-97f9-4b98-ea25-85bf36bd35e6",
        "colab": {
          "base_uri": "https://localhost:8080/",
          "height": 515
        }
      },
      "source": [
        "with open('vocab.pkl', \"rb\") as f:\n",
        "    vocab = pickle.load(f)\n",
        "    word2idx = vocab.word2idx\n",
        "    idx2word = vocab.idx2word\n",
        "    print('Vocabulary successfully loaded')\n",
        "\n",
        "\n",
        "test_loader = load_test_data(image_folder_path, annotations_path, 'train')\n",
        "original_image, image = next(iter(test_loader))\n",
        "transformed_image = image.numpy()\n",
        "transformed_image = np.squeeze(transformed_image)\\\n",
        "                    .transpose((1, 2, 0))\n",
        "\n",
        "# Print sample image, before and after pre-processing\n",
        "plt.imshow(np.squeeze(original_image))\n",
        "plt.title('example image')\n",
        "plt.show()\n",
        "plt.imshow(transformed_image)\n",
        "plt.title('transformed image')\n",
        "plt.show()"
      ],
      "execution_count": 0,
      "outputs": [
        {
          "output_type": "stream",
          "text": [
            "Vocabulary successfully loaded\n",
            "Vocabulary successfully loaded\n"
          ],
          "name": "stdout"
        },
        {
          "output_type": "display_data",
          "data": {
            "image/png": "[encoded data removed]",
            "text/plain": [
              "<Figure size 432x288 with 1 Axes>"
            ]
          },
          "metadata": {
            "tags": [],
            "needs_background": "light"
          }
        },
        {
          "output_type": "stream",
          "text": [
            "Clipping input data to the valid range for imshow with RGB data ([0..1] for floats or [0..255] for integers).\n"
          ],
          "name": "stderr"
        },
        {
          "output_type": "display_data",
          "data": {
            "image/png": "[encoded data removed]",
            "text/plain": [
              "<Figure size 432x288 with 1 Axes>"
            ]
          },
          "metadata": {
            "tags": [],
            "needs_background": "light"
          }
        }
      ]
    },
    {
      "cell_type": "code",
      "metadata": {
        "id": "jGGKpow4P1hp",
        "colab_type": "code",
        "colab": {}
      },
      "source": [
        "# Load the most recent checkpoint\n",
        "checkpoint = torch.load(os.path.join('', 'best-model.pkl'))\n",
        "\n",
        "# Specify values for embed_size and hidden_size - we use the same values as in training step\n",
        "embed_size = 256\n",
        "hidden_size = 512\n",
        "\n",
        "# Get the vocabulary and its size\n",
        "vocab = test_loader.dataset.vocab\n",
        "vocab_size = len(vocab)\n",
        "\n",
        "# Initialize the encoder and decoder, and set each to inference mode\n",
        "encoder = EncoderCNN(embed_size)\n",
        "encoder.eval()\n",
        "decoder = DecoderRNN(embed_size, hidden_size, vocab_size)\n",
        "decoder.eval()\n",
        "\n",
        "# Load the pre-trained weights\n",
        "encoder.load_state_dict(checkpoint['encoder'])\n",
        "decoder.load_state_dict(checkpoint['decoder'])\n",
        "\n",
        "# Move models to GPU if CUDA is available.\n",
        "if torch.cuda.is_available():\n",
        "    encoder.cuda()\n",
        "    decoder.cuda()\n",
        "\n",
        "features = encoder(image).unsqueeze(1)\n",
        "output = decoder.sample_beam_search(features)\n",
        "print('example output:', output)"
      ],
      "execution_count": 0,
      "outputs": []
    },
    {
      "cell_type": "code",
      "metadata": {
        "id": "wWwfTy2OP1hr",
        "colab_type": "code",
        "colab": {}
      },
      "source": [
        "sentences = clean_sentence(output, vocab)\n",
        "print('example sentence: \\n')\n",
        "for sentence in set(sentences):\n",
        "    print(f'{sentence}')"
      ],
      "execution_count": 0,
      "outputs": []
    },
    {
      "cell_type": "code",
      "metadata": {
        "id": "uAdZE_G_q4NT",
        "colab_type": "code",
        "colab": {}
      },
      "source": [
        "!pip install bert_score"
      ],
      "execution_count": 0,
      "outputs": []
    },
    {
      "cell_type": "code",
      "metadata": {
        "id": "WgWS-xjkoTNE",
        "colab_type": "code",
        "colab": {}
      },
      "source": [
        "from bert_score import score\n",
        "def validate_bert(val_loader, encoder, decoder, criterion, vocab, epoch, \n",
        "             total_step, start_step=1, start_loss=0.0, start_bert=0.0):\n",
        "    \"\"\"Validate the model for one epoch using the provided parameters. \n",
        "    Return the epoch's average validation loss and Bleu-4 score.\"\"\"\n",
        "\n",
        "    # Switch to validation mode\n",
        "    encoder.eval()\n",
        "    decoder.eval()\n",
        "\n",
        "    # Keep track of validation loss and Bert score\n",
        "    total_loss = start_loss\n",
        "    total_bert = start_bert\n",
        "\n",
        "    # Start time for every 100 steps\n",
        "    start_val_time = time.time()\n",
        "\n",
        "    # Disable gradient calculation because we are in inference mode\n",
        "    with torch.no_grad():\n",
        "        for i_step in range(start_step, total_step + 1):\n",
        "            # Randomly sample a caption length, and sample indices with that length\n",
        "            indices = val_loader.dataset.get_indices()\n",
        "            # Create a batch sampler to retrieve a batch with the sampled indices\n",
        "            new_sampler = data.sampler.SubsetRandomSampler(indices=indices)\n",
        "            val_loader.batch_sampler.sampler = new_sampler\n",
        "\n",
        "            # Obtain the batch\n",
        "            for batch in val_loader:\n",
        "                images, captions = batch[0], batch[1]\n",
        "                break \n",
        "\n",
        "            # Move to GPU if CUDA is available\n",
        "            if torch.cuda.is_available():\n",
        "                images = images.cuda()\n",
        "                captions = captions.cuda()\n",
        "            \n",
        "            # Pass the inputs through the CNN-RNN model\n",
        "            features = encoder(images)\n",
        "            outputs = decoder(features, captions)\n",
        "\n",
        "            # Calculate the total Bert score for the batch\n",
        "            batch_bert = 0.0\n",
        "            # Iterate over outputs. Note: outputs[i] is a caption in the batch\n",
        "            # outputs[i, j, k] contains the model's predicted score i.e. how \n",
        "            # likely the j-th token in the i-th caption in the batch is the \n",
        "            # k-th token in the vocabulary.\n",
        "            for i in range(len(outputs)):\n",
        "                predicted_ids = []\n",
        "                for scores in outputs[i]:\n",
        "                    # Find the index of the token that has the max score\n",
        "                    predicted_ids.append(scores.argmax().item())\n",
        "                # Convert word ids to actual words\n",
        "                predicted_caption = [' '.join(word_list(predicted_ids, vocab))]\n",
        "                caption = [' '.join(word_list(captions[i].numpy(), vocab))]\n",
        "                # print(predicted_caption, caption)\n",
        "                # Calculate Bert score and append it to the batch_bert list\n",
        "                P, R, f1 = score(predicted_caption,caption, lang='en', rescale_with_baseline=True)\n",
        "                print(f1)\n",
        "                batch_bert += f1\n",
        "            total_bert += batch_bert / len(outputs)\n",
        "\n",
        "            # Calculate the batch loss\n",
        "            loss = criterion(outputs.view(-1, len(vocab)), captions.view(-1))\n",
        "            total_loss += loss.item()\n",
        "            \n",
        "            # Get validation statistics\n",
        "            stats = \"Epoch %d, Val step [%d/%d], %ds, Loss: %.4f, Perplexity: %5.4f, Bert-Score: %.4f\" \\\n",
        "                    % (epoch, i_step, total_step, time.time() - start_val_time,\n",
        "                       loss.item(), np.exp(loss.item()), batch_bert / len(outputs))\n",
        "\n",
        "            # Print validation statistics (on same line)\n",
        "            print(\"\\r\" + stats, end=\"\")\n",
        "            sys.stdout.flush()\n",
        "\n",
        "            # Print validation statistics (on different line) and reset time\n",
        "            if i_step % PRINT_EVERY == 0:\n",
        "                print(\"\\r\" + stats)\n",
        "                filename = os.path.join(\"./models\", \"val-model-{}{}.pkl\".format(epoch, i_step))\n",
        "                save_val_checkpoint(filename, encoder, decoder, total_loss, total_bert, epoch, i_step)\n",
        "                start_val_time = time.time()\n",
        "                \n",
        "        return total_loss / total_step, total_bert / total_step\n"
      ],
      "execution_count": 0,
      "outputs": []
    },
    {
      "cell_type": "code",
      "metadata": {
        "id": "_kZQvbMfnhpq",
        "colab_type": "code",
        "colab": {}
      },
      "source": [
        "train_losses = []\n",
        "val_losses = []\n",
        "val_bscore = []\n",
        "best_val_bscore = float(\"-INF\")\n",
        "\n",
        "start_time = time.time()\n",
        "for epoch in range(1, num_epochs + 1):\n",
        "    train_loss = train(train_loader, encoder, decoder, criterion, optimizer, \n",
        "                       vocab_size, epoch, total_train_step)\n",
        "    train_losses.append(train_loss)\n",
        "    val_loss, val_bscore = validate_bert(val_loader, encoder, decoder, criterion,\n",
        "                                  train_loader.dataset.vocab, epoch, total_val_step)\n",
        "    val_losses.append(val_loss)\n",
        "    val_bscores.append(val_bscore)\n",
        "    if val_bscore > best_val_bscore:\n",
        "        print (\"Validation bscore improved from {:0.4f} to {:0.4f}, saving model to best-model.pkl\".\n",
        "               format(best_val_bscore, val_bscore))\n",
        "        best_val_bscore = val_bscore\n",
        "        filename = os.path.join(\"\", \"best-model.pkl\")\n",
        "        save_epoch(filename, encoder, decoder, optimizer, train_losses, val_losses, \n",
        "                   val_bscore, val_bscores, epoch)\n",
        "    else:\n",
        "        print (\"Validation bscore did not improve, saving model to model-{}.pkl\".format(epoch))\n",
        "    # Save the entire model anyway, regardless of being the best model so far or not\n",
        "    filename = os.path.join(\"\", \"model-bert-{}.pkl\".format(epoch))\n",
        "    save_epoch(filename, encoder, decoder, optimizer, train_losses, val_losses, \n",
        "               val_bscore, val_bscores, epoch)\n",
        "    print (\"Epoch [%d/%d] took %ds\" % (epoch, num_epochs, time.time() - start_time))\n",
        "    if epoch > 5:\n",
        "        # Stop if the validation bscore doesn't improve for 3 epochs\n",
        "        if early_stopping(val_bscores, 3):\n",
        "            break\n",
        "    start_time = time.time()"
      ],
      "execution_count": 0,
      "outputs": []
    },
    {
      "cell_type": "code",
      "metadata": {
        "id": "GlLwStiXyC9U",
        "colab_type": "code",
        "colab": {}
      },
      "source": [
        ""
      ],
      "execution_count": 0,
      "outputs": []
    }
  ]
}