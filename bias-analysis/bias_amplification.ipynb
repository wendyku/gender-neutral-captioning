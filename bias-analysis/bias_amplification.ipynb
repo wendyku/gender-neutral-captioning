{
 "cells": [
  {
   "cell_type": "markdown",
   "metadata": {
    "colab_type": "text",
    "id": "view-in-github"
   },
   "source": [
    "<a href=\"https://colab.research.google.com/github/wendyku/gender-neutral-captioning/blob/master/bias_amplification.ipynb\" target=\"_parent\"><img src=\"https://colab.research.google.com/assets/colab-badge.svg\" alt=\"Open In Colab\"/></a>"
   ]
  },
  {
   "cell_type": "markdown",
   "metadata": {
    "colab_type": "text",
    "id": "k7EG0rkAiTel"
   },
   "source": [
    "## Evaluating mean bias amplification\n",
    "\n",
    "Definition : It is the amplification of bias in the model in the evaluation/test set. \\\n",
    "\n",
    "Bias on training set : $b^{*}(o, g)$\\\n",
    "Bias on test set :  $\\tilde b(o, g)$\n",
    "\n",
    "If $o$ is positively correlated with $g$ (i.e,\n",
    "$b^{*}(o, g) > 1/||G||$) and $\\tilde b(o, g)$ is larger than\n",
    "$b^{*}(o, g)$, we say bias has been amplified. For\n",
    "example, if $b^{*}(cooking, woman) = .66$, and $\\tilde b(cooking, woman) = .84$, then the bias of woman toward cooking has been amplified.\n",
    "\n",
    "\n",
    "<b> Mean bias amplification =$$\\frac{1}{|O|}\\sum\\limits_{g}\\sum\\limits_{o\\epsilon\\{o\\epsilon O|b^{*}(o,g)>1/||G||\\}}\\tilde b(o,g) - b^{*}(o,g) $$ </b>\n",
    "\n",
    "\n",
    "This score estimates the average magnitude of bias\n",
    "amplification for pairs of $o$ and $g$ which exhibited\n",
    "bias.\n",
    "\n",
    "Since we consider gender binary, $G$ = $\\{man,woman\\}$ and $||G||$ = 2"
   ]
  },
  {
   "cell_type": "code",
   "execution_count": 1,
   "metadata": {
    "colab": {
     "base_uri": "https://localhost:8080/",
     "height": 118
    },
    "colab_type": "code",
    "id": "BnoryZaPzjq6",
    "outputId": "525606e3-66e3-4372-a3d9-6534ec75dea9"
   },
   "outputs": [
    {
     "name": "stderr",
     "output_type": "stream",
     "text": [
      "[nltk_data] Downloading package averaged_perceptron_tagger to\n",
      "[nltk_data]     C:\\Users\\parva\\AppData\\Roaming\\nltk_data...\n",
      "[nltk_data]   Package averaged_perceptron_tagger is already up-to-\n",
      "[nltk_data]       date!\n",
      "[nltk_data] Downloading package punkt to\n",
      "[nltk_data]     C:\\Users\\parva\\AppData\\Roaming\\nltk_data...\n",
      "[nltk_data]   Package punkt is already up-to-date!\n"
     ]
    }
   ],
   "source": [
    "from amp_utils import *\n",
    "from bias_analysis import *\n",
    "import glob"
   ]
  },
  {
   "cell_type": "markdown",
   "metadata": {
    "colab_type": "text",
    "id": "Ym_qenpMqLFk"
   },
   "source": [
    "## **TO DO**\n",
    "Bias Amplification without Balancing \\\n",
    "Bias Amplification With Balancing"
   ]
  },
  {
   "cell_type": "code",
   "execution_count": 2,
   "metadata": {
    "colab": {
     "base_uri": "https://localhost:8080/",
     "height": 34
    },
    "colab_type": "code",
    "id": "Hn7p_4qVwQqO",
    "outputId": "07a0e40c-c72d-4b3c-9a21-90d53df27350"
   },
   "outputs": [],
   "source": [
    "test_captions = ['a group of men playing a game of baseball .','a man holding a tennis racquet on a tennis court .','a baseball player holding a bat near home plate .']"
   ]
  },
  {
   "cell_type": "markdown",
   "metadata": {},
   "source": [
    "### Calculating bias amplification for initial unbalanced dataset\n",
    "\n",
    "Loading training bias dictionaries:"
   ]
  },
  {
   "cell_type": "code",
   "execution_count": 4,
   "metadata": {},
   "outputs": [
    {
     "name": "stdout",
     "output_type": "stream",
     "text": [
      "./training bias\\female_nouns.txt\n",
      "./training bias\\male_nouns.txt\n",
      "-0.8135791666666666\n"
     ]
    }
   ],
   "source": [
    "train_man_dict, train_woman_dict = get_bias_dict('nouns')\n",
    "mean_bias_amp = bias_amplification([],test_captions=test_captions,train_dict_man = train_man_dict,train_dict_woman=train_woman_dict)\n",
    "print(mean_bias_amp)"
   ]
  },
  {
   "cell_type": "code",
   "execution_count": null,
   "metadata": {},
   "outputs": [],
   "source": []
  }
 ],
 "metadata": {
  "colab": {
   "authorship_tag": "ABX9TyPDI1fTge74vWfnXEDSjmaA",
   "collapsed_sections": [],
   "include_colab_link": true,
   "name": "bias_amplification.ipynb",
   "provenance": []
  },
  "kernelspec": {
   "display_name": "7650",
   "language": "python",
   "name": "7650"
  },
  "language_info": {
   "codemirror_mode": {
    "name": "ipython",
    "version": 3
   },
   "file_extension": ".py",
   "mimetype": "text/x-python",
   "name": "python",
   "nbconvert_exporter": "python",
   "pygments_lexer": "ipython3",
   "version": "3.6.10"
  }
 },
 "nbformat": 4,
 "nbformat_minor": 1
}
