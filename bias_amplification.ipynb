{
  "nbformat": 4,
  "nbformat_minor": 0,
  "metadata": {
    "colab": {
      "name": "bias_amplification.ipynb",
      "provenance": [],
      "collapsed_sections": []
    },
    "kernelspec": {
      "name": "python3",
      "display_name": "Python 3"
    }
  },
  "cells": [
    {
      "cell_type": "markdown",
      "metadata": {
        "id": "k7EG0rkAiTel",
        "colab_type": "text"
      },
      "source": [
        "## Evaluating mean bias amplification\n",
        "\n",
        "Definition : It is the amplification of bias in the model in the evaluation/test set. \\\n",
        "\n",
        "Bias on training set : $b^{*}(o, g)$\\\n",
        "Bias on test set :  $\\tilde b(o, g)$\n",
        "\n",
        "If $o$ is positively correlated with $g$ (i.e,\n",
        "$b^{*}(o, g) > 1/||G||$) and $\\tilde b(o, g)$ is larger than\n",
        "$b^{*}(o, g)$, we say bias has been amplified. For\n",
        "example, if $b^{*}(cooking, woman) = .66$, and $\\tilde b(cooking, woman) = .84$, then the bias of woman toward cooking has been amplified.\n",
        "\n",
        "\\\\\n",
        "<b> Mean bias amplification = $\\frac{1}{|O|}$ $\\sum\\limits_{g}$$\\sum\\limits_{o\\epsilon\\{o\\epsilon O|b^{*}(o,g)>1/||G||\\}}\\tilde b(o,g) - b^{*}(o,g)$  </b>\n",
        "\n",
        "\n",
        "This score estimates the average magnitude of bias\n",
        "amplification for pairs of $o$ and $g$ which exhibited\n",
        "bias.\n",
        "\n",
        "Since we consider gender binary, $G$ = $\\{man,woman\\}$ and $||G||$ = 2"
      ]
    },
    {
      "cell_type": "code",
      "metadata": {
        "id": "BnoryZaPzjq6",
        "colab_type": "code",
        "colab": {
          "base_uri": "https://localhost:8080/",
          "height": 118
        },
        "outputId": "525606e3-66e3-4372-a3d9-6534ec75dea9"
      },
      "source": [
        "from balance_training_set import read_data,get_data,split_train_data\n",
        "from bias_analysis import top_n_items, bias\n",
        "from config import all_captions"
      ],
      "execution_count": 1,
      "outputs": [
        {
          "output_type": "stream",
          "text": [
            "[nltk_data] Downloading package averaged_perceptron_tagger to\n",
            "[nltk_data]     /root/nltk_data...\n",
            "[nltk_data]   Package averaged_perceptron_tagger is already up-to-\n",
            "[nltk_data]       date!\n",
            "[nltk_data] Downloading package punkt to /root/nltk_data...\n",
            "[nltk_data]   Package punkt is already up-to-date!\n"
          ],
          "name": "stdout"
        }
      ]
    },
    {
      "cell_type": "code",
      "metadata": {
        "id": "gSHvFOx73sPO",
        "colab_type": "code",
        "colab": {}
      },
      "source": [
        "\n",
        "# top 12 biased verbs from both genders\n",
        "bias_activities = ['driving','passing','catching','reading','touching','pulling','wedding','jumping','skateboarding','pulled','riding',\n",
        "                   'pushing','cutting','having','laying','cut','petting','waiting','talking','haired','overlooking','staring','typing']\n",
        "\n",
        "# top 12 biased nouns from both genders\n",
        "bias_items = ['tennis','dirt','skateboard','grass','carriage','beer','kite','beach','road','wagon','bags','surfboard',\n",
        "              'dress','lap','bed','flowers','mouth','bridle','fire','teeth','curb','device','leash','face']\n"
      ],
      "execution_count": 0,
      "outputs": []
    },
    {
      "cell_type": "markdown",
      "metadata": {
        "id": "Ym_qenpMqLFk",
        "colab_type": "text"
      },
      "source": [
        "Objects List = baseball, cell, food, kitchen, motorcycle, skateboard, snowboard, table, tie, umbrella\\\n",
        "## **TO DO**\n",
        "Bias Amplification without Balancing \\\n",
        "Bias Amplification With Balancing"
      ]
    },
    {
      "cell_type": "code",
      "metadata": {
        "id": "kd-txPMpKtMx",
        "colab_type": "code",
        "colab": {}
      },
      "source": [
        "def feature_bias(bias_dict, feature):\n",
        "  return bias_dict.get(feature,0)\n",
        "\n",
        "def is_biased(bias_dict,feature):\n",
        "  return bias_dict.get(feature,0) > 0.5\n",
        "\n",
        "def objects_bias(bias_dict1,bias_dict2,gender='man'):\n",
        " \n",
        "  bias_dict = bias_dict1 if gender=='man' else bias_dict2\n",
        "  objects_dict = {feature:feature_bias(bias_dict,feature) for feature in bias_objects}\n",
        "  return objects_dict"
      ],
      "execution_count": 0,
      "outputs": []
    },
    {
      "cell_type": "code",
      "metadata": {
        "id": "kxglda_7oKL1",
        "colab_type": "code",
        "colab": {}
      },
      "source": [
        "def bias_diff_sum(train_bias_dict, test_bias_dict):\n",
        "  feature_diff = 0\n",
        "  # train_bias_dict = train_dict_man if gender=='man' else train_dict_woman\n",
        "  # test_bias_dict = test_dict_man if gender=='man' else test_dict_woman\n",
        "  for feature in bias_objects_list:\n",
        "    feature_diff += feature_bias(test_bias_dict,feature) - feature_bias(train_bias_dict, feature)\n",
        "  return feature_diff\n",
        "\n",
        "def bias_amplification(train_captions,test_captions):\n",
        "  # CALCULATING BIAS IN TRAIN CORPUS\n",
        "  top_n_items(pos='noun', all_captions=train_captions)\n",
        "  train_dict_man, train_dict_woman = bias()\n",
        "\n",
        "  # CALCULATING BIAS IN TEST (GENERATED) CORPUS\n",
        "  top_n_items(pos='noun', all_captions=test_captions)\n",
        "  test_dict_man, test_dict_woman = bias()\n",
        "\n",
        "  male_sum = bias_diff_sum(train_dict_man,test_dict_man)\n",
        "  female_sum = bias_diff_sum(train_dict_woman, test_dict_woman)\n",
        "\n",
        "  bias_amplification = male_sum + female_sum\n",
        "  mean_bias_amplification = bias_amplification/len(bias_objects_list)\n",
        "  return mean_bias_amplification\n",
        "\n"
      ],
      "execution_count": 0,
      "outputs": []
    },
    {
      "cell_type": "code",
      "metadata": {
        "id": "Hn7p_4qVwQqO",
        "colab_type": "code",
        "colab": {
          "base_uri": "https://localhost:8080/",
          "height": 34
        },
        "outputId": "07a0e40c-c72d-4b3c-9a21-90d53df27350"
      },
      "source": [
        "# bias_objects - words where is_biased is True ELSE NOT IN LIST\n",
        "bias_objects_list =  ['baseball', 'cell', 'food', 'kitchen', 'motorcycle', 'skateboard', 'snowboard', 'table', 'tie', 'umbrella']\n",
        "\n",
        "# sentences \n",
        "train_captions = ['a group of men playing a game of baseball .','a man holding a tennis racquet on a tennis court .','a baseball player holding a bat near home plate .']\n",
        "test_captions = ['a group of men playing a game of baseball .','a man holding a tennis racquet on a tennis court .','a baseball player holding a bat near home plate .']\n",
        "\n",
        "\n",
        "# MEAN BIAS AMPLIFICATION\n",
        "mean_bias_amp = bias_amplification(train_captions,test_captions)\n",
        "print(mean_bias_amp)"
      ],
      "execution_count": 9,
      "outputs": [
        {
          "output_type": "stream",
          "text": [
            "0.0\n"
          ],
          "name": "stdout"
        }
      ]
    }
  ]
}